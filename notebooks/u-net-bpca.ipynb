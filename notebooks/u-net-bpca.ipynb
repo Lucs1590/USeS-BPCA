{
 "cells": [
  {
   "cell_type": "markdown",
   "metadata": {},
   "source": [
    "# U-net-like with Oxford-IIIT Pet Dataset"
   ]
  },
  {
   "cell_type": "markdown",
   "metadata": {},
   "source": [
    "## Imports"
   ]
  },
  {
   "cell_type": "code",
   "execution_count": 2,
   "metadata": {},
   "outputs": [
    {
     "name": "stderr",
     "output_type": "stream",
     "text": [
      "2023-08-19 11:59:20.079321: I tensorflow/core/platform/cpu_feature_guard.cc:182] This TensorFlow binary is optimized to use available CPU instructions in performance-critical operations.\n",
      "To enable the following instructions: SSE4.1 SSE4.2 AVX AVX2 AVX512F AVX512_VNNI FMA, in other operations, rebuild TensorFlow with the appropriate compiler flags.\n"
     ]
    }
   ],
   "source": [
    "import os\n",
    "import time\n",
    "\n",
    "import tensorflow as tf\n",
    "\n",
    "from tensorflow import keras\n",
    "from tensorflow.keras import layers\n",
    "from keras.optimizers import Adam, SGD\n",
    "from tensorflow.keras.utils import plot_model\n",
    "from keras.callbacks import (EarlyStopping, ModelCheckpoint, CSVLogger)\n",
    "\n",
    "import numpy as np\n",
    "import matplotlib.pyplot as plt\n",
    "import tensorflow_datasets as tfds\n"
   ]
  },
  {
   "cell_type": "code",
   "execution_count": 3,
   "metadata": {},
   "outputs": [],
   "source": [
    "os.environ['TF_CPP_MIN_LOG_LEVEL'] = '3'\n",
    "\n",
    "if 'content' in os.getcwd():\n",
    "    COLAB = True\n",
    "    from google.colab import drive\n",
    "    drive.mount('/content/gdrive')\n",
    "\n",
    "np.random.seed(77)\n",
    "tf.random.set_seed(77)\n"
   ]
  },
  {
   "cell_type": "markdown",
   "metadata": {},
   "source": [
    "## Constant Variables"
   ]
  },
  {
   "cell_type": "code",
   "execution_count": 4,
   "metadata": {},
   "outputs": [],
   "source": [
    "RESOURCES_DIR = f'{(os.path.abspath(os.path.join(os.getcwd(), os.pardir)))}/resources/'\n",
    "None if os.path.isdir(RESOURCES_DIR) else os.mkdir(RESOURCES_DIR) \n",
    "MODEL_NAME = 'raw_unet'\n",
    "\n",
    "BATCH_SIZE = 64\n",
    "BUFFER_SIZE = 1000\n",
    "HEIGHT, WIDTH = 256, 256\n",
    "NUM_CLASSES = 3  # background, foreground, boundary\n",
    "NUM_EPOCHS = 20\n",
    "VAL_SUBSPLITS = 5\n"
   ]
  },
  {
   "cell_type": "markdown",
   "metadata": {},
   "source": [
    "## Dataset\n",
    "Download and applying transformations to the dataset.\n"
   ]
  },
  {
   "cell_type": "code",
   "execution_count": 5,
   "metadata": {},
   "outputs": [
    {
     "name": "stdout",
     "output_type": "stream",
     "text": [
      "tfds.core.DatasetInfo(\n",
      "    name='oxford_iiit_pet',\n",
      "    full_name='oxford_iiit_pet/3.2.0',\n",
      "    description=\"\"\"\n",
      "    The Oxford-IIIT pet dataset is a 37 category pet image dataset with roughly 200\n",
      "    images for each class. The images have large variations in scale, pose and\n",
      "    lighting. All images have an associated ground truth annotation of breed.\n",
      "    \"\"\",\n",
      "    homepage='http://www.robots.ox.ac.uk/~vgg/data/pets/',\n",
      "    data_path='/home/brito/tensorflow_datasets/oxford_iiit_pet/3.2.0',\n",
      "    file_format=tfrecord,\n",
      "    download_size=773.52 MiB,\n",
      "    dataset_size=774.69 MiB,\n",
      "    features=FeaturesDict({\n",
      "        'file_name': Text(shape=(), dtype=string),\n",
      "        'image': Image(shape=(None, None, 3), dtype=uint8),\n",
      "        'label': ClassLabel(shape=(), dtype=int64, num_classes=37),\n",
      "        'segmentation_mask': Image(shape=(None, None, 1), dtype=uint8),\n",
      "        'species': ClassLabel(shape=(), dtype=int64, num_classes=2),\n",
      "    }),\n",
      "    supervised_keys=('image', 'label'),\n",
      "    disable_shuffling=False,\n",
      "    splits={\n",
      "        'test': <SplitInfo num_examples=3669, num_shards=4>,\n",
      "        'train': <SplitInfo num_examples=3680, num_shards=4>,\n",
      "    },\n",
      "    citation=\"\"\"@InProceedings{parkhi12a,\n",
      "      author       = \"Parkhi, O. M. and Vedaldi, A. and Zisserman, A. and Jawahar, C.~V.\",\n",
      "      title        = \"Cats and Dogs\",\n",
      "      booktitle    = \"IEEE Conference on Computer Vision and Pattern Recognition\",\n",
      "      year         = \"2012\",\n",
      "    }\"\"\",\n",
      ")\n"
     ]
    },
    {
     "name": "stderr",
     "output_type": "stream",
     "text": [
      "2023-08-19 11:59:27.547901: I tensorflow/core/common_runtime/process_util.cc:146] Creating new thread pool with default inter op setting: 2. Tune using inter_op_parallelism_threads for best performance.\n"
     ]
    }
   ],
   "source": [
    "dataset, info = tfds.load(\n",
    "    'oxford_iiit_pet:3.*.*',\n",
    "    with_info=True,\n",
    "    shuffle_files=True,\n",
    "    data_dir='/content/gdrive/MyDrive/Projetos/oxford_iiit_pet/3.2.0' if COLAB else '/home/brito/tensorflow_datasets/oxford_iiit_pet/3.2.0',\n",
    ")\n",
    "\n",
    "print(info)\n"
   ]
  },
  {
   "cell_type": "code",
   "execution_count": null,
   "metadata": {},
   "outputs": [],
   "source": [
    "TRAIN_LENGTH = info.splits[\"train\"].num_examples\n",
    "STEPS_PER_EPOCH = TRAIN_LENGTH // BATCH_SIZE\n",
    "\n",
    "TEST_LENTH = info.splits[\"test\"].num_examples - 669\n",
    "VALIDATION_STEPS = TEST_LENTH // BATCH_SIZE // VAL_SUBSPLITS"
   ]
  },
  {
   "cell_type": "code",
   "execution_count": null,
   "metadata": {},
   "outputs": [],
   "source": [
    "def resize(input_image, input_mask):\n",
    "    input_image = tf.image.resize(\n",
    "        input_image,\n",
    "        (HEIGHT, WIDTH),\n",
    "        method=\"nearest\"\n",
    "    )\n",
    "    input_mask = tf.image.resize(input_mask, (HEIGHT, WIDTH), method=\"nearest\")\n",
    "\n",
    "    return input_image, input_mask\n"
   ]
  },
  {
   "cell_type": "code",
   "execution_count": null,
   "metadata": {},
   "outputs": [],
   "source": [
    "def augment(input_image, input_mask):\n",
    "    if tf.random.uniform(()) > 0.5:\n",
    "        input_image = tf.image.flip_left_right(input_image)\n",
    "        input_mask = tf.image.flip_left_right(input_mask)\n",
    "\n",
    "    return input_image, input_mask\n"
   ]
  },
  {
   "cell_type": "code",
   "execution_count": null,
   "metadata": {},
   "outputs": [],
   "source": [
    "def normalize(input_image, input_mask):\n",
    "    input_image = tf.cast(input_image, tf.float32) / 255.0\n",
    "    input_mask -= 1\n",
    "    return input_image, input_mask\n"
   ]
  },
  {
   "cell_type": "code",
   "execution_count": null,
   "metadata": {},
   "outputs": [],
   "source": [
    "def load_image_train(datapoint):\n",
    "    input_image = datapoint[\"image\"]\n",
    "    input_mask = datapoint[\"segmentation_mask\"]\n",
    "    input_image, input_mask = resize(input_image, input_mask)\n",
    "    input_image, input_mask = augment(input_image, input_mask)\n",
    "    input_image, input_mask = normalize(input_image, input_mask)\n",
    "\n",
    "    return input_image, input_mask\n"
   ]
  },
  {
   "cell_type": "code",
   "execution_count": null,
   "metadata": {},
   "outputs": [],
   "source": [
    "def load_image_test(datapoint):\n",
    "    input_image = datapoint[\"image\"]\n",
    "    input_mask = datapoint[\"segmentation_mask\"]\n",
    "    input_image, input_mask = resize(input_image, input_mask)\n",
    "    input_image, input_mask = normalize(input_image, input_mask)\n",
    "\n",
    "    return input_image, input_mask\n"
   ]
  },
  {
   "cell_type": "code",
   "execution_count": null,
   "metadata": {},
   "outputs": [],
   "source": [
    "train_dataset = dataset[\"train\"].map(\n",
    "    load_image_train, num_parallel_calls=tf.data.AUTOTUNE)\n",
    "test_dataset = dataset[\"test\"].map(\n",
    "    load_image_test, num_parallel_calls=tf.data.AUTOTUNE)\n",
    "\n",
    "print(train_dataset)\n"
   ]
  },
  {
   "cell_type": "code",
   "execution_count": null,
   "metadata": {},
   "outputs": [],
   "source": [
    "train_batches = train_dataset.cache().shuffle(\n",
    "    BUFFER_SIZE).batch(BATCH_SIZE).repeat()\n",
    "train_batches = train_batches.prefetch(\n",
    "    buffer_size=tf.data.experimental.AUTOTUNE)\n",
    "validation_batches = test_dataset.take(3000).batch(BATCH_SIZE)\n",
    "test_batches = test_dataset.skip(3000).take(669).batch(BATCH_SIZE)\n"
   ]
  },
  {
   "cell_type": "code",
   "execution_count": null,
   "metadata": {},
   "outputs": [],
   "source": [
    "def display(display_list):\n",
    "    plt.figure(figsize=(15, 15))\n",
    "\n",
    "    title = [\"Input Image\", \"True Mask\", \"Predicted Mask\"]\n",
    "\n",
    "    for i in range(len(display_list)):\n",
    "        plt.subplot(1, len(display_list), i+1)\n",
    "        plt.title(title[i])\n",
    "        plt.imshow(tf.keras.utils.array_to_img(display_list[i]))\n",
    "        plt.axis(\"off\")\n",
    "    plt.show()\n"
   ]
  },
  {
   "cell_type": "code",
   "execution_count": null,
   "metadata": {},
   "outputs": [],
   "source": [
    "sample_batch = next(iter(train_batches))\n",
    "random_index = np.random.choice(sample_batch[0].shape[0])\n",
    "sample_image, sample_mask = sample_batch[0][random_index], sample_batch[1][random_index]\n",
    "display([sample_image, sample_mask])\n"
   ]
  },
  {
   "cell_type": "markdown",
   "metadata": {},
   "source": [
    "## U-net-like architecture"
   ]
  },
  {
   "cell_type": "code",
   "execution_count": null,
   "metadata": {},
   "outputs": [],
   "source": [
    "def get_unet_model(img_size, num_classes):\n",
    "    inputs = keras.Input(shape=img_size + (3,))\n",
    "\n",
    "    ### [First half of the network: downsampling inputs] ###\n",
    "\n",
    "    # Entry block\n",
    "    x = keras.layers.Conv2D(32, 3, strides=2, padding=\"same\")(inputs)\n",
    "    x = keras.layers.BatchNormalization()(x)\n",
    "    x = keras.layers.Activation(\"relu\")(x)\n",
    "\n",
    "    previous_block_activation = x  # Set aside residual\n",
    "\n",
    "    # Blocks 1, 2, 3 are identical apart from the feature depth.\n",
    "    for filters in [64, 128, 256]:\n",
    "        x = keras.layers.Activation(\"relu\")(x)\n",
    "        x = keras.layers.SeparableConv2D(filters, 3, padding=\"same\")(x)\n",
    "        x = keras.layers.BatchNormalization()(x)\n",
    "\n",
    "        x = keras.layers.Activation(\"relu\")(x)\n",
    "        x = keras.layers.SeparableConv2D(filters, 3, padding=\"same\")(x)\n",
    "        x = keras.layers.BatchNormalization()(x)\n",
    "\n",
    "        x = keras.layers.MaxPooling2D(3, strides=2, padding=\"same\")(x)\n",
    "\n",
    "        # Project residual\n",
    "        residual = keras.layers.Conv2D(filters, 1, strides=2, padding=\"same\")(\n",
    "            previous_block_activation\n",
    "        )\n",
    "        x = keras.layers.add([x, residual])  # Add back residual\n",
    "        previous_block_activation = x  # Set aside next residual\n",
    "\n",
    "    ### [Second half of the network: upsampling inputs] ###\n",
    "\n",
    "    for filters in [256, 128, 64, 32]:\n",
    "        x = keras.layers.Activation(\"relu\")(x)\n",
    "        x = keras.layers.Conv2DTranspose(filters, 3, padding=\"same\")(x)\n",
    "        x = keras.layers.BatchNormalization()(x)\n",
    "\n",
    "        x = keras.layers.Activation(\"relu\")(x)\n",
    "        x = keras.layers.Conv2DTranspose(filters, 3, padding=\"same\")(x)\n",
    "        x = keras.layers.BatchNormalization()(x)\n",
    "\n",
    "        x = keras.layers.UpSampling2D(2)(x)\n",
    "\n",
    "        # Project residual\n",
    "        residual = keras.layers.UpSampling2D(2)(previous_block_activation)\n",
    "        residual = keras.layers.Conv2D(filters, 1, padding=\"same\")(residual)\n",
    "        x = keras.layers.add([x, residual])  # Add back residual\n",
    "        previous_block_activation = x  # Set aside next residual\n",
    "\n",
    "    # Add a per-pixel classification layer\n",
    "    outputs = keras.layers.Conv2D(num_classes, 3, activation=\"softmax\", padding=\"same\")(\n",
    "        x\n",
    "    )\n",
    "\n",
    "    # Define the model\n",
    "    model = keras.Model(inputs, outputs)\n",
    "    return model\n"
   ]
  },
  {
   "cell_type": "code",
   "execution_count": null,
   "metadata": {},
   "outputs": [],
   "source": [
    "model = get_unet_model(img_size=(HEIGHT, WIDTH), num_classes=NUM_CLASSES)\n"
   ]
  },
  {
   "cell_type": "code",
   "execution_count": null,
   "metadata": {},
   "outputs": [],
   "source": [
    "model.summary()\n"
   ]
  },
  {
   "cell_type": "code",
   "execution_count": 1,
   "metadata": {},
   "outputs": [
    {
     "ename": "NameError",
     "evalue": "name 'model' is not defined",
     "output_type": "error",
     "traceback": [
      "\u001b[0;31m---------------------------------------------------------------------------\u001b[0m",
      "\u001b[0;31mNameError\u001b[0m                                 Traceback (most recent call last)",
      "Cell \u001b[0;32mIn[1], line 2\u001b[0m\n\u001b[1;32m      1\u001b[0m \u001b[39m# print trainable and non-trainable params\u001b[39;00m\n\u001b[0;32m----> 2\u001b[0m \u001b[39mfor\u001b[39;00m i, layer \u001b[39min\u001b[39;00m \u001b[39menumerate\u001b[39m(model\u001b[39m.\u001b[39mlayers):\n\u001b[1;32m      3\u001b[0m     \u001b[39mprint\u001b[39m(i, layer\u001b[39m.\u001b[39mname, layer\u001b[39m.\u001b[39mtrainable)\n",
      "\u001b[0;31mNameError\u001b[0m: name 'model' is not defined"
     ]
    }
   ],
   "source": [
    "for i, layer in enumerate(model.layers):\n",
    "    print(i, layer.name, layer.trainable)\n"
   ]
  },
  {
   "cell_type": "code",
   "execution_count": null,
   "metadata": {},
   "outputs": [],
   "source": [
    "# plot_model(\n",
    "#     model,\n",
    "#     to_file=f'{RESOURCES_DIR}model.png',\n",
    "#     show_shapes=True,\n",
    "#     show_layer_names=True,\n",
    "#     rankdir='TB'\n",
    "# )\n"
   ]
  },
  {
   "cell_type": "markdown",
   "metadata": {},
   "source": [
    "## Training & Testing"
   ]
  },
  {
   "cell_type": "code",
   "execution_count": null,
   "metadata": {},
   "outputs": [],
   "source": [
    "optimizer = Adam(learning_rate=1e-5)\n",
    "# optimizer = SGD(learning_rate=1e-5)\n",
    "\n",
    "model.compile(\n",
    "    optimizer=optimizer,\n",
    "    loss=tf.keras.losses.SparseCategoricalCrossentropy(),\n",
    "    metrics=[\"accuracy\"]\n",
    ")\n"
   ]
  },
  {
   "cell_type": "code",
   "execution_count": null,
   "metadata": {},
   "outputs": [],
   "source": [
    "model_checkpointer = ModelCheckpoint(\n",
    "    f'{RESOURCES_DIR}{MODEL_NAME}.h5',\n",
    "    monitor='val_accuracy',\n",
    "    verbose=1,\n",
    "    save_best_only=True,\n",
    "    save_weights_only=False,\n",
    "    mode='max'\n",
    ")\n",
    "store_history = CSVLogger(f'{RESOURCES_DIR}{MODEL_NAME}.csv', append=True)\n",
    "early_stopping = EarlyStopping(\n",
    "    monitor='val_accuracy',\n",
    "    min_delta=0,\n",
    "    mode='auto',\n",
    "    verbose=1,\n",
    "    patience=100\n",
    ")\n",
    "\n",
    "start_time = time.perf_counter()\n",
    "with tf.device('/gpu:0'):\n",
    "    model_history = model.fit(\n",
    "        train_batches,\n",
    "        epochs=NUM_EPOCHS,\n",
    "        steps_per_epoch=STEPS_PER_EPOCH,\n",
    "        validation_steps=VALIDATION_STEPS,\n",
    "        validation_data=validation_batches,\n",
    "        verbose=1,\n",
    "\n",
    "        callbacks=[\n",
    "            model_checkpointer,\n",
    "            store_history\n",
    "            # early_stopping\n",
    "        ]\n",
    "    )\n",
    "end_time = time.perf_counter()\n"
   ]
  },
  {
   "cell_type": "code",
   "execution_count": null,
   "metadata": {},
   "outputs": [],
   "source": [
    "print(f'Time to train: {str(\"{0:.2f}\".format((end_time - start_time) / 60))}')\n"
   ]
  },
  {
   "cell_type": "code",
   "execution_count": null,
   "metadata": {},
   "outputs": [],
   "source": [
    "model.save(f'{RESOURCES_DIR}{MODEL_NAME}_last_epoch.h5')\n",
    "model_json = model.to_json()\n",
    "with open(f'{RESOURCES_DIR}{MODEL_NAME}.json', \"w\") as json_file:\n",
    "    json_file.write(model_json)\n"
   ]
  },
  {
   "cell_type": "code",
   "execution_count": null,
   "metadata": {},
   "outputs": [],
   "source": [
    "loss, accuracy = model.evaluate(test_batches, verbose=1)\n",
    "print(\"Loss:\", loss)\n",
    "print(\"Accuracy: %.2f%%\" % (accuracy * 100))\n"
   ]
  },
  {
   "cell_type": "code",
   "execution_count": null,
   "metadata": {},
   "outputs": [],
   "source": [
    "if isinstance(history, pd.DataFrame):\n",
    "    plt.plot(history['loss'])\n",
    "    plt.plot(history['val_loss'])\n",
    "    plt.legend(['train', 'test'])\n",
    "    plt.title('loss')\n",
    "    plt.legend([\"Loss\", \"Validation Loss\"])\n",
    "    plt.savefig(\"loss.png\", dpi=300, format=\"png\")\n",
    "    plt.figure()\n",
    "    plt.plot(history[\"accuracy\"])\n",
    "    plt.plot(history['val_accuracy'])\n",
    "    plt.legend(['train', 'test'])\n",
    "    plt.title('accuracy')\n",
    "\n",
    "else:\n",
    "    plt.plot(history.history['loss'])\n",
    "    plt.plot(history.history['val_loss'])\n",
    "    plt.legend(['train', 'test'])\n",
    "    plt.title('loss')\n",
    "    plt.legend([\"Loss\", \"Validation Loss\"])\n",
    "    plt.savefig(\"loss.png\", dpi=300, format=\"png\")\n",
    "    plt.figure()\n",
    "    plt.plot(history.history[\"accuracy\"])\n",
    "    plt.plot(history.history['val_accuracy'])\n",
    "    plt.legend(['train', 'test'])\n",
    "    plt.title('accuracy')\n",
    "\n",
    "plt.legend([\"Accuracy\", \"Validation Accuracy\"])\n",
    "plt.savefig(\"accuracy.png\", dpi=300, format=\"png\")\n"
   ]
  },
  {
   "cell_type": "markdown",
   "metadata": {},
   "source": [
    "## Prediction"
   ]
  },
  {
   "cell_type": "code",
   "execution_count": null,
   "metadata": {},
   "outputs": [],
   "source": [
    "def create_mask(pred_mask):\n",
    "    pred_mask = tf.argmax(pred_mask, axis=-1)\n",
    "    pred_mask = pred_mask[..., tf.newaxis]\n",
    "    return pred_mask[0]\n"
   ]
  },
  {
   "cell_type": "code",
   "execution_count": null,
   "metadata": {},
   "outputs": [],
   "source": [
    "def show_predictions(dataset=None, num=1):\n",
    "    if dataset:\n",
    "        for image, mask in dataset.take(num):\n",
    "            pred_mask = model.predict(image)\n",
    "            display([image[0], mask[0], create_mask(pred_mask)])\n",
    "    else:\n",
    "        display([sample_image, sample_mask,\n",
    "                 create_mask(model.predict(sample_image[tf.newaxis, ...]))])\n"
   ]
  },
  {
   "cell_type": "code",
   "execution_count": null,
   "metadata": {},
   "outputs": [],
   "source": [
    "show_predictions(test_batches.skip(5), 3)\n"
   ]
  }
 ],
 "metadata": {
  "kernelspec": {
   "display_name": "master",
   "language": "python",
   "name": "python3"
  },
  "language_info": {
   "codemirror_mode": {
    "name": "ipython",
    "version": 3
   },
   "file_extension": ".py",
   "mimetype": "text/x-python",
   "name": "python",
   "nbconvert_exporter": "python",
   "pygments_lexer": "ipython3",
   "version": "3.8.17"
  },
  "orig_nbformat": 4
 },
 "nbformat": 4,
 "nbformat_minor": 2
}
