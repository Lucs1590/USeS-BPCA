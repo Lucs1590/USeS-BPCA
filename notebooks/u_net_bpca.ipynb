{
  "cells": [
    {
      "cell_type": "markdown",
      "metadata": {
        "colab_type": "text",
        "id": "view-in-github"
      },
      "source": [
        "<a href=\"https://colab.research.google.com/github/Lucs1590/USeS-BPCA/blob/main/notebooks/u_net_bpca.ipynb\" target=\"_parent\"><img src=\"https://colab.research.google.com/assets/colab-badge.svg\" alt=\"Open In Colab\"/></a>"
      ]
    },
    {
      "cell_type": "markdown",
      "metadata": {
        "id": "iU_UgOsYWQ68"
      },
      "source": [
        "# U-net-like with Oxford-IIIT Pet Dataset"
      ]
    },
    {
      "cell_type": "markdown",
      "metadata": {
        "id": "-uHZjOWbWQ7C"
      },
      "source": [
        "## Imports"
      ]
    },
    {
      "cell_type": "code",
      "execution_count": null,
      "metadata": {
        "id": "Tt9oCr-xWQ7D"
      },
      "outputs": [],
      "source": [
        "import os\n",
        "import time\n",
        "import math\n",
        "from datetime import datetime\n",
        "\n",
        "import tensorflow as tf\n",
        "\n",
        "from tensorflow import keras\n",
        "from tensorflow.keras import layers\n",
        "from tensorflow.keras.utils import plot_model\n",
        "from keras.optimizers import Adam, SGD\n",
        "from keras.metrics import MeanIoU, Accuracy, MeanSquaredError, IoU\n",
        "from keras.models import load_model\n",
        "from keras.callbacks import (\n",
        "    EarlyStopping,\n",
        "    ModelCheckpoint,\n",
        "    CSVLogger,\n",
        "    TensorBoard,\n",
        "    ReduceLROnPlateau\n",
        ")\n",
        "\n",
        "import numpy as np\n",
        "import pandas as pd\n",
        "import matplotlib.pyplot as plt\n",
        "import tensorflow_datasets as tfds\n"
      ]
    },
    {
      "cell_type": "code",
      "execution_count": null,
      "metadata": {
        "colab": {
          "base_uri": "https://localhost:8080/"
        },
        "id": "2Tpm-dkSWQ7H",
        "outputId": "fc257172-b67b-40ee-c7eb-7f23d0542fec"
      },
      "outputs": [],
      "source": [
        "os.environ['TF_CPP_MIN_LOG_LEVEL'] = '3'\n",
        "\n",
        "if 'content' in os.getcwd():\n",
        "    COLAB = True\n",
        "    from google.colab import drive\n",
        "    drive.mount('/content/gdrive')\n",
        "    RESOURCES_DIR = f'{os.path.join(os.getcwd(), os.pardir)}/resources/'\n",
        "else:\n",
        "    COLAB = False\n",
        "    RESOURCES_DIR = f'{(os.path.abspath(os.path.join(os.getcwd(), os.pardir)))}/resources/'\n",
        "\n",
        "np.random.seed(77)\n",
        "tf.random.set_seed(77)\n"
      ]
    },
    {
      "cell_type": "markdown",
      "metadata": {
        "id": "YSNDeybWWQ7I"
      },
      "source": [
        "## Constant Variables"
      ]
    },
    {
      "cell_type": "code",
      "execution_count": null,
      "metadata": {
        "id": "a0Aze5D7WQ7I"
      },
      "outputs": [],
      "source": [
        "RESOURCES_DIR = RESOURCES_DIR.replace('..', '').replace('//', '/')\n",
        "None if os.path.isdir(RESOURCES_DIR) else os.mkdir(RESOURCES_DIR)\n",
        "LOGS_DIR = f'{RESOURCES_DIR}logs/{datetime.now().strftime(\"%Y%m%d-%H%M%S\")}'\n",
        "None if os.path.isdir(LOGS_DIR) else os.makedirs(LOGS_DIR, exist_ok=True)\n",
        "\n",
        "MODEL_NAME = 'bpca_unetlike'\n",
        "\n",
        "BATCH_SIZE = 64\n",
        "BUFFER_SIZE = 1000\n",
        "HEIGHT, WIDTH = 256, 256\n",
        "NUM_CLASSES = 3  # background, foreground, boundary\n",
        "NUM_EPOCHS = 500\n",
        "VAL_SUBSPLITS = 5\n"
      ]
    },
    {
      "cell_type": "code",
      "execution_count": null,
      "metadata": {
        "colab": {
          "base_uri": "https://localhost:8080/",
          "height": 35
        },
        "id": "gxBjoHAtXJu_",
        "outputId": "0e561883-f9e6-4344-c79b-ecd39b96c8fc"
      },
      "outputs": [],
      "source": [
        "RESOURCES_DIR\n"
      ]
    },
    {
      "cell_type": "markdown",
      "metadata": {
        "id": "5jrpRYaAWQ7J"
      },
      "source": [
        "## Dataset\n",
        "Download and applying transformations to the dataset.\n"
      ]
    },
    {
      "cell_type": "code",
      "execution_count": null,
      "metadata": {
        "colab": {
          "base_uri": "https://localhost:8080/"
        },
        "id": "XNe-V7VKWQ7K",
        "outputId": "2a07c04e-6f23-4299-f2d9-dd45698dbbcd"
      },
      "outputs": [],
      "source": [
        "dataset, info = tfds.load(\n",
        "    'oxford_iiit_pet:3.*.*',\n",
        "    with_info=True,\n",
        "    shuffle_files=True,\n",
        "    data_dir='/content/gdrive/MyDrive/Projetos/' if COLAB else '/home/brito/tensorflow_datasets/',\n",
        ")\n",
        "\n",
        "print(info)\n"
      ]
    },
    {
      "cell_type": "code",
      "execution_count": null,
      "metadata": {
        "id": "_mENGNM9WQ7L"
      },
      "outputs": [],
      "source": [
        "TRAIN_LENGTH = info.splits[\"train\"].num_examples\n",
        "STEPS_PER_EPOCH = TRAIN_LENGTH // BATCH_SIZE\n",
        "\n",
        "TEST_LENTH = info.splits[\"test\"].num_examples - 669\n",
        "VALIDATION_STEPS = TEST_LENTH // BATCH_SIZE // VAL_SUBSPLITS\n",
        "LEARNING_RATE = 1e-4\n"
      ]
    },
    {
      "cell_type": "code",
      "execution_count": null,
      "metadata": {
        "id": "nq2H9FWiWQ7L"
      },
      "outputs": [],
      "source": [
        "def resize(input_image, input_mask):\n",
        "    input_image = tf.image.resize(\n",
        "        input_image,\n",
        "        (HEIGHT, WIDTH),\n",
        "        method=\"nearest\"\n",
        "    )\n",
        "    input_mask = tf.image.resize(input_mask, (HEIGHT, WIDTH), method=\"nearest\")\n",
        "\n",
        "    return input_image, input_mask\n"
      ]
    },
    {
      "cell_type": "code",
      "execution_count": null,
      "metadata": {
        "id": "C62ozCiIWQ7L"
      },
      "outputs": [],
      "source": [
        "def augment(input_image, input_mask):\n",
        "    if tf.random.uniform(()) > 0.5:\n",
        "        input_image = tf.image.flip_left_right(input_image)\n",
        "        input_mask = tf.image.flip_left_right(input_mask)\n",
        "\n",
        "    return input_image, input_mask\n"
      ]
    },
    {
      "cell_type": "code",
      "execution_count": null,
      "metadata": {
        "id": "uRuGfCh8WQ7M"
      },
      "outputs": [],
      "source": [
        "def normalize(input_image, input_mask):\n",
        "    input_image = tf.cast(input_image, tf.float32) / 255.0\n",
        "    input_mask -= 1\n",
        "    return input_image, input_mask\n"
      ]
    },
    {
      "cell_type": "code",
      "execution_count": null,
      "metadata": {
        "id": "Qfz7OXhdWQ7M"
      },
      "outputs": [],
      "source": [
        "def load_image_train(datapoint):\n",
        "    input_image = datapoint[\"image\"]\n",
        "    input_mask = datapoint[\"segmentation_mask\"]\n",
        "    input_image, input_mask = resize(input_image, input_mask)\n",
        "    input_image, input_mask = augment(input_image, input_mask)\n",
        "    input_image, input_mask = normalize(input_image, input_mask)\n",
        "\n",
        "    return input_image, input_mask\n"
      ]
    },
    {
      "cell_type": "code",
      "execution_count": null,
      "metadata": {
        "id": "bopTlkpJWQ7N"
      },
      "outputs": [],
      "source": [
        "def load_image_test(datapoint):\n",
        "    input_image = datapoint[\"image\"]\n",
        "    input_mask = datapoint[\"segmentation_mask\"]\n",
        "    input_image, input_mask = resize(input_image, input_mask)\n",
        "    input_image, input_mask = normalize(input_image, input_mask)\n",
        "\n",
        "    return input_image, input_mask\n"
      ]
    },
    {
      "cell_type": "code",
      "execution_count": null,
      "metadata": {
        "colab": {
          "base_uri": "https://localhost:8080/"
        },
        "id": "aJCqx1FvWQ7N",
        "outputId": "e359ba66-1245-42a6-de09-22b31bd75383"
      },
      "outputs": [],
      "source": [
        "train_dataset = dataset[\"train\"].map(\n",
        "    load_image_train, num_parallel_calls=tf.data.AUTOTUNE)\n",
        "test_dataset = dataset[\"test\"].map(\n",
        "    load_image_test, num_parallel_calls=tf.data.AUTOTUNE)\n",
        "\n",
        "print(train_dataset)\n"
      ]
    },
    {
      "cell_type": "code",
      "execution_count": null,
      "metadata": {
        "id": "DJAOBLLDWQ7N"
      },
      "outputs": [],
      "source": [
        "train_batches = train_dataset.cache().shuffle(\n",
        "    BUFFER_SIZE).batch(BATCH_SIZE).repeat()\n",
        "train_batches = train_batches.prefetch(\n",
        "    buffer_size=tf.data.experimental.AUTOTUNE)\n",
        "validation_batches = test_dataset.take(3000).batch(BATCH_SIZE)\n",
        "test_batches = test_dataset.skip(3000).take(669).batch(BATCH_SIZE)\n"
      ]
    },
    {
      "cell_type": "code",
      "execution_count": null,
      "metadata": {
        "id": "7OzDY-mJWQ7N"
      },
      "outputs": [],
      "source": [
        "def display(display_list, name=None):\n",
        "    plt.figure(figsize=(15, 15))\n",
        "\n",
        "    title = [\"Input Image\", \"True Mask\", \"Predicted Mask\"]\n",
        "\n",
        "    for i in range(len(display_list)):\n",
        "        plt.subplot(1, len(display_list), i+1)\n",
        "        plt.title(title[i])\n",
        "        plt.imshow(tf.keras.utils.array_to_img(display_list[i]))\n",
        "        plt.axis(\"off\")\n",
        "    plt.show()\n",
        "    if name:\n",
        "        plt.savefig(f'{name}.png', dpi=300, format='png')\n"
      ]
    },
    {
      "cell_type": "code",
      "execution_count": null,
      "metadata": {
        "colab": {
          "base_uri": "https://localhost:8080/",
          "height": 587
        },
        "id": "2tuTAjs0WQ7O",
        "outputId": "3f3b472f-6e10-4e86-9c7c-69e463eab147"
      },
      "outputs": [],
      "source": [
        "sample_batch = next(iter(train_batches))\n",
        "random_index = np.random.choice(sample_batch[0].shape[0])\n",
        "sample_image, sample_mask = sample_batch[0][random_index], sample_batch[1][random_index]\n",
        "display([sample_image, sample_mask])\n"
      ]
    },
    {
      "cell_type": "markdown",
      "metadata": {
        "id": "6gnsXV4yjKoN"
      },
      "source": [
        "## BPCA"
      ]
    },
    {
      "cell_type": "code",
      "execution_count": null,
      "metadata": {
        "id": "qPVCY3TfjMjU"
      },
      "outputs": [],
      "source": [
        "class BPCAPooling(tf.keras.layers.Layer):\n",
        "    def __init__(self, pool_size=2, stride=2, n_components=1, expected_shape=None, **kwargs):\n",
        "        super(BPCAPooling, self).__init__(**kwargs)\n",
        "        self.pool_size = pool_size\n",
        "        self.stride = stride\n",
        "        self.n_components = n_components\n",
        "        self.expected_shape = expected_shape\n",
        "\n",
        "        self.patch_size = [1, self.pool_size, self.pool_size, 1]\n",
        "        self.strides = [1, self.stride, self.stride, 1]\n",
        "\n",
        "    def build(self, input_shape):\n",
        "        super(BPCAPooling, self).build(input_shape)\n",
        "\n",
        "    @tf.function\n",
        "    def bpca_pooling(self, feature_map):\n",
        "        # Compute the region of interest\n",
        "        h, w, c = self.expected_shape  # block_height, block_width, block_channels\n",
        "        d = c // (self.pool_size * self.pool_size)  # block_depth\n",
        "\n",
        "        # Create blocks (patches)\n",
        "        data = tf.reshape(feature_map, [1, h, w, c])\n",
        "        patches = tf.image.extract_patches(\n",
        "            images=data,\n",
        "            sizes=self.patch_size,\n",
        "            strides=self.strides,\n",
        "            rates=[1, 1, 1, 1],\n",
        "            padding='VALID'\n",
        "        )\n",
        "        patches = tf.reshape(\n",
        "            patches,\n",
        "            [h*w*d, self.pool_size * self.pool_size]\n",
        "        )\n",
        "\n",
        "        # Normalize the data by subtracting the mean and dividing by the standard deviation\n",
        "        mean = tf.reduce_mean(patches, axis=0)\n",
        "        std = tf.math.reduce_std(patches, axis=0)\n",
        "        patches = (patches - mean) / std\n",
        "        patches = tf.where(tf.math.is_nan(patches), 0.0, patches)\n",
        "\n",
        "        # Perform the Singular Value Decomposition (SVD) on the data\n",
        "        _, _, v = tf.linalg.svd(patches)\n",
        "\n",
        "        # Extract the first n principal components from the matrix v\n",
        "        pca_components = v[:, :self.n_components]\n",
        "\n",
        "        # Perform the PCA transformation on the data\n",
        "        transformed_patches = tf.matmul(patches, pca_components)\n",
        "        return tf.reshape(transformed_patches, [h // self.pool_size, w // self.pool_size, c])\n",
        "\n",
        "    def call(self, inputs):\n",
        "        pooled = tf.vectorized_map(self.bpca_pooling, inputs)\n",
        "        return pooled\n"
      ]
    },
    {
      "cell_type": "code",
      "execution_count": null,
      "metadata": {
        "id": "4ZR7Ga8FCYGR"
      },
      "outputs": [],
      "source": [
        "class GlobalBPCAPooling2D(tf.keras.layers.Layer):\n",
        "    def __init__(self, **kwargs):\n",
        "        super(GlobalBPCAPooling2D, self).__init__(**kwargs)\n",
        "\n",
        "    def build(self, input_shape):\n",
        "        super(GlobalBPCAPooling2D, self).build(input_shape)\n",
        "\n",
        "    @tf.function\n",
        "    def bpca_pooling(self, feature_map):\n",
        "        # Compute the region of interest\n",
        "        h, w, c = feature_map.shape  # block_height, block_width, block_channels\n",
        "        pool_size = h\n",
        "        patch_size = [1, pool_size, pool_size, 1]\n",
        "        strides = [1, pool_size, pool_size, 1]\n",
        "\n",
        "        # Create blocks (patches)\n",
        "        data = tf.reshape(feature_map, [1, h, w, c])\n",
        "        patches = tf.image.extract_patches(\n",
        "            images=data,\n",
        "            sizes=patch_size,\n",
        "            strides=strides,\n",
        "            rates=[1, 1, 1, 1],\n",
        "            padding='VALID'\n",
        "        )\n",
        "\n",
        "        patches = tf.reshape(patches, [-1, pool_size * pool_size])\n",
        "\n",
        "        # Normalize the data by subtracting the mean and dividing by the standard deviation\n",
        "        mean = tf.reduce_mean(patches, axis=0)\n",
        "        std = tf.math.reduce_std(patches, axis=0)\n",
        "        patches = (patches - mean) / std\n",
        "        patches = tf.where(tf.math.is_nan(patches), 0.0, patches)\n",
        "\n",
        "        # Perform the Singular Value Decomposition (SVD) on the data\n",
        "        _, _, v = tf.linalg.svd(patches)\n",
        "\n",
        "        # Extract the first principal component from the matrix v\n",
        "        pca_components = v[:, :1]\n",
        "\n",
        "        # Perform the PCA transformation on the data\n",
        "        transformed_patches = tf.matmul(patches, pca_components)\n",
        "\n",
        "        return tf.reshape(transformed_patches, [h // pool_size, w // pool_size, c])\n",
        "\n",
        "    def call(self, inputs):\n",
        "        pooled = tf.vectorized_map(self.bpca_pooling, inputs)\n",
        "        pooled = tf.reshape(pooled, [-1, pooled.shape[-1]])\n",
        "        return pooled\n"
      ]
    },
    {
      "cell_type": "code",
      "execution_count": null,
      "metadata": {
        "id": "WcpjydzzqnTi"
      },
      "outputs": [],
      "source": [
        "def calculate_power_inverted_value(x):\n",
        "    y = 64 / math.sqrt(x)\n",
        "    return int(y)\n",
        "\n",
        "def define_crop_values(filters):\n",
        "    if filters == 64:\n",
        "        crop = (88, 88)\n",
        "    elif filters == 128:\n",
        "        crop = (40, 40)\n",
        "    elif filters == 256:\n",
        "        crop = (16, 16)\n",
        "    elif filters == 512:\n",
        "        crop = (4, 4)\n",
        "    else:\n",
        "        crop = (0, 0)\n",
        "    return crop\n",
        "\n",
        "def get_layers_number_unetlike(number):\n",
        "    if number == 64:\n",
        "        return (128, 128, 64)\n",
        "    if number == 128:\n",
        "        return (64, 64, 128)\n",
        "    if number == 256:\n",
        "        return (32, 32, 256)\n",
        "    if number == 512:\n",
        "        return (16, 16, 512)\n",
        "    else:\n",
        "        return (0, 0, 0)\n",
        "\n",
        "def get_layers_number_unet(number):\n",
        "    if number == 64:\n",
        "        return (256, 256, 64)\n",
        "    if number == 128:\n",
        "        return (128, 128, 128)\n",
        "    if number == 256:\n",
        "        return (64, 64, 256)\n",
        "    if number == 512:\n",
        "        return (32, 32, 512)\n",
        "    else:\n",
        "        return (0, 0, 0)"
      ]
    },
    {
      "cell_type": "markdown",
      "metadata": {
        "id": "EztL-cByWQ7O"
      },
      "source": [
        "## U-net-like architecture\n"
      ]
    },
    {
      "cell_type": "code",
      "execution_count": null,
      "metadata": {
        "id": "2ctoBsK0WQ7O"
      },
      "outputs": [],
      "source": [
        "def get_unetlike_model(img_size, num_classes):\n",
        "    inputs = keras.Input(shape=img_size + (3,))\n",
        "\n",
        "    ### [First half of the network: downsampling inputs] ###\n",
        "\n",
        "    # Entry block\n",
        "    x = keras.layers.Conv2D(32, 3, strides=2, padding=\"same\")(inputs)\n",
        "    x = keras.layers.BatchNormalization()(x)\n",
        "    x = keras.layers.Activation(\"relu\")(x)\n",
        "\n",
        "    previous_block_activation = x  # Set aside residual\n",
        "\n",
        "    # Blocks 1, 2, 3 are identical apart from the feature depth.\n",
        "    for filters in [64, 128, 256]:\n",
        "        x = keras.layers.Activation(\"relu\")(x)\n",
        "        x = keras.layers.SeparableConv2D(filters, 3, padding=\"same\")(x)\n",
        "        x = keras.layers.BatchNormalization()(x)\n",
        "\n",
        "        x = keras.layers.Activation(\"relu\")(x)\n",
        "        x = keras.layers.SeparableConv2D(filters, 3, padding=\"same\")(x)\n",
        "        x = keras.layers.BatchNormalization()(x)\n",
        "\n",
        "        # x = keras.layers.MaxPooling2D(2, strides=2, padding=\"same\")(x)\n",
        "        # print(filters)\n",
        "        x = BPCAPooling(pool_size=2, stride=2, expected_shape=get_layers_number_unetlike(filters))(x)\n",
        "        # print(filters, x.shape)\n",
        "\n",
        "        # Project residual\n",
        "        residual = keras.layers.Conv2D(filters, 1, strides=2, padding=\"same\")(\n",
        "            previous_block_activation\n",
        "        )\n",
        "        x = keras.layers.add([x, residual])  # Add back residual\n",
        "        previous_block_activation = x  # Set aside next residual\n",
        "\n",
        "    ### [Second half of the network: upsampling inputs] ###\n",
        "\n",
        "    for filters in [256, 128, 64, 32]:\n",
        "        x = keras.layers.Activation(\"relu\")(x)\n",
        "        x = keras.layers.Conv2DTranspose(filters, 3, padding=\"same\")(x)\n",
        "        x = keras.layers.BatchNormalization()(x)\n",
        "\n",
        "        x = keras.layers.Activation(\"relu\")(x)\n",
        "        x = keras.layers.Conv2DTranspose(filters, 3, padding=\"same\")(x)\n",
        "        x = keras.layers.BatchNormalization()(x)\n",
        "\n",
        "        x = keras.layers.UpSampling2D(2)(x)\n",
        "\n",
        "        # Project residual\n",
        "        residual = keras.layers.UpSampling2D(2)(previous_block_activation)\n",
        "        residual = keras.layers.Conv2D(filters, 1, padding=\"same\")(residual)\n",
        "        x = keras.layers.add([x, residual])  # Add back residual\n",
        "        previous_block_activation = x  # Set aside next residual\n",
        "\n",
        "    # Add a per-pixel classification layer\n",
        "    outputs = keras.layers.Conv2D(num_classes, 3, activation=\"softmax\", padding=\"same\")(\n",
        "        x\n",
        "    )\n",
        "\n",
        "    # Define the model\n",
        "    model = keras.Model(inputs, outputs)\n",
        "    return model\n"
      ]
    },
    {
      "cell_type": "markdown",
      "metadata": {},
      "source": [
        "## U-Net architecture"
      ]
    },
    {
      "cell_type": "code",
      "execution_count": null,
      "metadata": {},
      "outputs": [],
      "source": [
        "def get_unet_model(img_size, num_classes):\n",
        "    def convolution_block(input, num_filters):\n",
        "        x = layers.Conv2D(num_filters, 3, padding='same')(input)\n",
        "        x = layers.BatchNormalization()(x)\n",
        "        x = layers.Activation('relu')(x)\n",
        "\n",
        "        x = layers.Conv2D(num_filters, 3, padding='same')(x)\n",
        "        x = layers.BatchNormalization()(x)\n",
        "        x = layers.Activation('relu')(x)\n",
        "\n",
        "        return x\n",
        "\n",
        "    def encoder_block(input, num_filters):\n",
        "        conv_layer = convolution_block(input, num_filters)\n",
        "        # pooling = layers.MaxPooling2D((2, 2))(conv_layer)\n",
        "        pooling = BPCAPooling(pool_size=2, stride=2, expected_shape=get_layers_number_unet(num_filters))(conv_layer)\n",
        "        return conv_layer, pooling\n",
        "\n",
        "    def decoder_block(input, skip_features, num_filters):\n",
        "        x = layers.Conv2DTranspose(\n",
        "            num_filters, (2, 2), strides=2, padding='same')(input)\n",
        "        x = layers.Concatenate()([x, skip_features])\n",
        "        x = convolution_block(x, num_filters)\n",
        "        return x\n",
        "\n",
        "    inputs = layers.Input(shape=img_size + (3,))\n",
        "    filters = [64, 128, 256, 512]\n",
        "    saved_layers = []\n",
        "\n",
        "    pooling = inputs\n",
        "    for filter in filters:\n",
        "        conv_layer, pooling = encoder_block(pooling, filter)\n",
        "        saved_layers.append(conv_layer)\n",
        "\n",
        "    conv_block = convolution_block(pooling, 1024)\n",
        "\n",
        "    deconv_layer = conv_block\n",
        "    for filter in reversed(filters):\n",
        "        conv_layer = saved_layers.pop()\n",
        "        deconv_layer = decoder_block(deconv_layer, conv_layer, filter)\n",
        "\n",
        "    outputs = layers.Conv2D(num_classes, 3, padding='same',\n",
        "                            activation='softmax')(deconv_layer)\n",
        "\n",
        "    model = keras.Model(inputs, outputs, name='UNet')\n",
        "    return model\n"
      ]
    },
    {
      "cell_type": "markdown",
      "metadata": {},
      "source": [
        "## Model Selection"
      ]
    },
    {
      "cell_type": "code",
      "execution_count": null,
      "metadata": {
        "id": "1Pf_n7UBWQ7O"
      },
      "outputs": [],
      "source": [
        "# model = get_unetlike_model(img_size=(HEIGHT, WIDTH), num_classes=NUM_CLASSES)\n",
        "model = get_unet_model(img_size=(HEIGHT, WIDTH), num_classes=NUM_CLASSES)\n",
        "# model = load_model(\"/home/hinton/brito/models/max_unetlike.h5\")\n",
        "# model_history = pd.read_csv('/home/hinton/brito/models/max_unetlike.csv')\n",
        "# model_history.head()\n"
      ]
    },
    {
      "cell_type": "code",
      "execution_count": null,
      "metadata": {
        "colab": {
          "base_uri": "https://localhost:8080/"
        },
        "id": "Q9-DNGqNWQ7O",
        "outputId": "6803d1b0-8545-4848-de34-37de583552cb"
      },
      "outputs": [],
      "source": [
        "model.summary()\n"
      ]
    },
    {
      "cell_type": "code",
      "execution_count": null,
      "metadata": {
        "colab": {
          "base_uri": "https://localhost:8080/"
        },
        "id": "dZm2HfrjWQ7P",
        "outputId": "32a8bec6-3714-4d93-a171-219cb8d5700c"
      },
      "outputs": [],
      "source": [
        "for i, layer in enumerate(model.layers):\n",
        "    print(i, layer.name, layer.trainable)\n"
      ]
    },
    {
      "cell_type": "code",
      "execution_count": null,
      "metadata": {
        "id": "mhFQn_z1WQ7P"
      },
      "outputs": [],
      "source": [
        "# plot_model(\n",
        "#     model,\n",
        "#     to_file=f'{RESOURCES_DIR}model.png',\n",
        "#     show_shapes=True,\n",
        "#     show_layer_names=True,\n",
        "#     rankdir='TB'\n",
        "# )\n"
      ]
    },
    {
      "cell_type": "markdown",
      "metadata": {
        "id": "kzZ2uEZXWQ7P"
      },
      "source": [
        "## Training & Testing"
      ]
    },
    {
      "cell_type": "markdown",
      "metadata": {},
      "source": [
        "Metrics"
      ]
    },
    {
      "cell_type": "code",
      "execution_count": null,
      "metadata": {},
      "outputs": [],
      "source": [
        "def mean_iou(y_true, y_pred):\n",
        "    intersection = tf.reduce_sum(y_pred * y_true, axis=(1, 2))\n",
        "    union = tf.reduce_sum(y_pred + y_true, axis=(1, 2)) - intersection\n",
        "    return tf.reduce_mean(intersection / union)\n"
      ]
    },
    {
      "cell_type": "code",
      "execution_count": null,
      "metadata": {},
      "outputs": [],
      "source": [
        "def dice_coefficient(y_true, y_pred, smooth=1):\n",
        "    intersection = tf.reduce_sum(y_true * y_pred, axis=[1, 2, 3])\n",
        "    union = tf.reduce_sum(y_true, axis=[1, 2, 3]) + tf.reduce_sum(y_pred, axis=[1, 2, 3])\n",
        "    dice = tf.reduce_mean((2. * intersection + smooth) / (union + smooth),axis=0)\n",
        "    return dice\n"
      ]
    },
    {
      "cell_type": "code",
      "execution_count": null,
      "metadata": {},
      "outputs": [],
      "source": [
        "def pixel_accuracy(y_true, y_pred):\n",
        "    return tf.reduce_mean(tf.cast(\n",
        "        tf.equal(y_true, y_pred),\n",
        "        tf.float32\n",
        "    ))\n"
      ]
    },
    {
      "cell_type": "code",
      "execution_count": null,
      "metadata": {
        "id": "cv3JmRuFWQ7P"
      },
      "outputs": [],
      "source": [
        "optimizer = Adam(learning_rate=LEARNING_RATE)\n",
        "# optimizer = SGD(learning_rate=LEARNING_RATE)\n",
        "\n",
        "model.compile(\n",
        "    optimizer=optimizer,\n",
        "    loss=tf.keras.losses.SparseCategoricalCrossentropy(),\n",
        "    metrics=[\"accuracy\", dice_coefficient, mean_iou]\n",
        ")\n"
      ]
    },
    {
      "cell_type": "markdown",
      "metadata": {},
      "source": [
        "Callbacks"
      ]
    },
    {
      "cell_type": "code",
      "execution_count": null,
      "metadata": {},
      "outputs": [],
      "source": [
        "model_checkpointer = ModelCheckpoint(\n",
        "    f'{RESOURCES_DIR}{MODEL_NAME}.h5',\n",
        "    monitor='val_mean_iou',\n",
        "    verbose=1,\n",
        "    save_best_only=True,\n",
        "    save_weights_only=False,\n",
        "    mode='max'\n",
        ")\n",
        "store_history = CSVLogger(f'{RESOURCES_DIR}{MODEL_NAME}.csv', append=True)\n",
        "tensorboard_callback = TensorBoard(\n",
        "    log_dir=LOGS_DIR,\n",
        "    histogram_freq=1,\n",
        "    write_graph=True,\n",
        "    write_images=True,\n",
        "    update_freq='epoch'\n",
        ")\n",
        "early_stopping = EarlyStopping(\n",
        "    monitor='val_mean_iou',\n",
        "    min_delta=0,\n",
        "    mode='auto',\n",
        "    verbose=1,\n",
        "    patience=100\n",
        ")\n",
        "learning_rate_reducer = ReduceLROnPlateau(\n",
        "    monitor='val_mean_iou',\n",
        "    mode='auto',\n",
        "    verbose=1,\n",
        "    min_lr=1e-5,\n",
        "    patience=25\n",
        ")\n"
      ]
    },
    {
      "cell_type": "markdown",
      "metadata": {},
      "source": [
        "TensorBoard"
      ]
    },
    {
      "cell_type": "code",
      "execution_count": null,
      "metadata": {},
      "outputs": [],
      "source": [
        "%tensorboard --logdir = {LOGS_DIR}  # typo:ignore\n",
        "# kill $(lsof -i:6006)\n"
      ]
    },
    {
      "cell_type": "markdown",
      "metadata": {},
      "source": [
        "Training"
      ]
    },
    {
      "cell_type": "code",
      "execution_count": null,
      "metadata": {
        "colab": {
          "base_uri": "https://localhost:8080/"
        },
        "id": "E56REJ1AWQ7P",
        "outputId": "060ca98a-5032-4378-bd16-623c723351e9"
      },
      "outputs": [],
      "source": [
        "start_time = time.perf_counter()\n",
        "with tf.device('/gpu:0'):\n",
        "    model_history = model.fit(\n",
        "        train_batches,\n",
        "        epochs=NUM_EPOCHS,\n",
        "        steps_per_epoch=STEPS_PER_EPOCH,\n",
        "        validation_steps=VALIDATION_STEPS,\n",
        "        validation_data=validation_batches,\n",
        "        verbose=1,\n",
        "\n",
        "        callbacks=[\n",
        "            model_checkpointer,\n",
        "            store_history,\n",
        "            tensorboard_callback,\n",
        "            learning_rate_reducer,\n",
        "            early_stopping\n",
        "        ]\n",
        "    )\n",
        "end_time = time.perf_counter()\n"
      ]
    },
    {
      "cell_type": "code",
      "execution_count": null,
      "metadata": {
        "colab": {
          "base_uri": "https://localhost:8080/"
        },
        "id": "GyJ2XljnWQ7R",
        "outputId": "56e8c566-c9d9-445a-ac86-6b979f22dc18"
      },
      "outputs": [],
      "source": [
        "total_time = ((end_time - start_time) / 60)\n",
        "print(f'Time to train: {str(\"{0:.2f}\".format(total_time))}')\n"
      ]
    },
    {
      "cell_type": "code",
      "execution_count": null,
      "metadata": {
        "id": "H7Dc4TE2WQ7R"
      },
      "outputs": [],
      "source": [
        "model.save(f'{RESOURCES_DIR}{MODEL_NAME}_last_epoch.h5')\n",
        "model_json = model.to_json()\n",
        "with open(f'{RESOURCES_DIR}{MODEL_NAME}.json', \"w\") as json_file:\n",
        "    json_file.write(model_json)\n"
      ]
    },
    {
      "cell_type": "markdown",
      "metadata": {},
      "source": [
        "Testing"
      ]
    },
    {
      "cell_type": "code",
      "execution_count": null,
      "metadata": {
        "colab": {
          "base_uri": "https://localhost:8080/"
        },
        "id": "OelGCFDrWQ7R",
        "outputId": "8bac8efb-8400-42c2-9679-20b8a2d8c140"
      },
      "outputs": [],
      "source": [
        "loss, accuracy, m_iou, dice = model.evaluate(test_batches, verbose=1)\n",
        "print(\"Loss:\", loss)\n",
        "print(\"Accuracy: %.2f%%\" % (accuracy * 100))\n",
        "print(\"Accuracy: %.2f%%\" % (m_iou * 100))\n",
        "print(\"Accuracy: %.2f%%\" % (dice * 100))\n"
      ]
    },
    {
      "cell_type": "code",
      "execution_count": null,
      "metadata": {
        "colab": {
          "base_uri": "https://localhost:8080/",
          "height": 887
        },
        "id": "ArdS4_e1WQ7S",
        "outputId": "e490f9ff-62b6-424b-f73d-9ff1f7a8fe9e"
      },
      "outputs": [],
      "source": [
        "if isinstance(model_history, pd.DataFrame):\n",
        "    if 'loss' in model_history.columns:\n",
        "        plt.plot(model_history['loss'])\n",
        "        plt.plot(model_history['val_loss'])\n",
        "        plt.legend(['train', 'test'])\n",
        "        plt.title('loss')\n",
        "        plt.legend([\"Loss\", \"Validation Loss\"])\n",
        "        plt.savefig(\"loss.png\", dpi=300, format=\"png\")\n",
        "\n",
        "    if 'accuracy' in model_history.columns:\n",
        "        plt.figure()\n",
        "        plt.plot(model_history[\"accuracy\"])\n",
        "        plt.plot(model_history['val_accuracy'])\n",
        "        plt.legend(['train', 'test'])\n",
        "        plt.title('accuracy')\n",
        "        plt.legend([\"Accuracy\", \"Validation Accuracy\"])\n",
        "        plt.savefig(\"accuracy.png\", dpi=300, format=\"png\")\n",
        "\n",
        "    if 'mean_iou' in model_history.columns:\n",
        "        plt.figure()\n",
        "        plt.plot(model_history[\"mean_iou\"])\n",
        "        plt.plot(model_history['val_mean_iou'])\n",
        "        plt.legend(['train', 'test'])\n",
        "        plt.title('mean_iou')\n",
        "        plt.legend([\"MeanIoU\", \"Validation MeanIoU\"])\n",
        "        plt.savefig(\"mean_iou.png\", dpi=300, format=\"png\")\n",
        "\n",
        "    if 'dice_coefficient' in model_history.columns:\n",
        "        plt.figure()\n",
        "        plt.plot(model_history[\"dice_coefficient\"])\n",
        "        plt.plot(model_history['val_dice_coefficient'])\n",
        "        plt.legend(['train', 'test'])\n",
        "        plt.title('dice_coefficient')\n",
        "        plt.legend([\"DiceCoefficient\", \"Validation DiceCoefficient\"])\n",
        "        plt.savefig(\"dice_coefficient.png\", dpi=300, format=\"png\")\n",
        "\n",
        "else:\n",
        "    if 'loss' in model_history.history:\n",
        "        plt.plot(model_history.history['loss'])\n",
        "        plt.plot(model_history.history['val_loss'])\n",
        "        plt.legend(['train', 'test'])\n",
        "        plt.title('loss')\n",
        "        plt.legend([\"Loss\", \"Validation Loss\"])\n",
        "        plt.savefig(\"loss.png\", dpi=300, format=\"png\")\n",
        "\n",
        "    if 'accuracy' in model_history.history:\n",
        "        plt.figure()\n",
        "        plt.plot(model_history.history[\"accuracy\"])\n",
        "        plt.plot(model_history.history['val_accuracy'])\n",
        "        plt.legend(['train', 'test'])\n",
        "        plt.title('accuracy')\n",
        "        plt.legend([\"Accuracy\", \"Validation Accuracy\"])\n",
        "        plt.savefig(\"accuracy.png\", dpi=300, format=\"png\")\n",
        "\n",
        "    if 'mean_iou' in model_history.history:\n",
        "        plt.figure()\n",
        "        plt.plot(model_history.history[\"mean_iou\"])\n",
        "        plt.plot(model_history.history['val_mean_iou'])\n",
        "        plt.legend(['train', 'test'])\n",
        "        plt.title('mean_iou')\n",
        "        plt.legend([\"MeanIoU\", \"Validation MeanIoU\"])\n",
        "        plt.savefig(\"mean_iou.png\", dpi=300, format=\"png\")\n",
        "\n",
        "    if 'dice_coefficient' in model_history.history:\n",
        "        plt.figure()\n",
        "        plt.plot(model_history.history[\"dice_coefficient\"])\n",
        "        plt.plot(model_history.history['val_dice_coefficient'])\n",
        "        plt.legend(['train', 'test'])\n",
        "        plt.title('dice_coefficient')\n",
        "        plt.legend([\"DiceCoefficient\", \"Validation DiceCoefficient\"])\n",
        "        plt.savefig(\"dice_coefficient.png\", dpi=300, format=\"png\")\n"
      ]
    },
    {
      "cell_type": "markdown",
      "metadata": {
        "id": "hu_BSr2tWQ7S"
      },
      "source": [
        "## Prediction"
      ]
    },
    {
      "cell_type": "markdown",
      "metadata": {},
      "source": [
        "Image, Ground Truth and Feature Maps"
      ]
    },
    {
      "cell_type": "code",
      "execution_count": null,
      "metadata": {
        "id": "6HW_qEluWQ7S"
      },
      "outputs": [],
      "source": [
        "def create_mask(pred_mask):\n",
        "    pred_mask = tf.argmax(pred_mask, axis=-1)\n",
        "    pred_mask = pred_mask[..., tf.newaxis]\n",
        "    return pred_mask[0]\n"
      ]
    },
    {
      "cell_type": "code",
      "execution_count": null,
      "metadata": {
        "id": "39p9G2EfWQ7T"
      },
      "outputs": [],
      "source": [
        "def show_predictions(dataset=None, num=1):\n",
        "    if dataset:\n",
        "        for image, mask in dataset.take(num):\n",
        "            pred_mask = model.predict(image)\n",
        "            display([image[0], mask[0], create_mask(pred_mask)], name=f'prediction{num}')\n",
        "    else:\n",
        "        display([\n",
        "            sample_image,\n",
        "            sample_mask,\n",
        "            create_mask(model.predict(sample_image[tf.newaxis, ...]))\n",
        "        ])\n"
      ]
    },
    {
      "cell_type": "code",
      "execution_count": null,
      "metadata": {
        "colab": {
          "base_uri": "https://localhost:8080/",
          "height": 1000
        },
        "id": "BawSpRhjWQ7T",
        "outputId": "1f676d3d-2353-44ca-e095-b02e263200ce"
      },
      "outputs": [],
      "source": [
        "show_predictions(test_batches.skip(5), 3)\n"
      ]
    },
    {
      "cell_type": "code",
      "execution_count": null,
      "metadata": {
        "colab": {
          "base_uri": "https://localhost:8080/",
          "height": 246
        },
        "id": "WEz5yQ897PPI",
        "outputId": "8fde1e25-79dc-4625-eea7-b96501131100"
      },
      "outputs": [],
      "source": [
        "params = {\n",
        "    'optimizer': optimizer,\n",
        "    'val_accuracy': accuracy,\n",
        "    'val_miou': m_iou,\n",
        "    'val_dice': dice,\n",
        "    'val_loss': loss,\n",
        "    'epochs': NUM_EPOCHS,\n",
        "    'steps_by_epochs': STEPS_PER_EPOCH,\n",
        "    'validation_steps': VALIDATION_STEPS,\n",
        "    'batch_size': BATCH_SIZE,\n",
        "    'learning_rate': LEARNING_RATE,\n",
        "    'time': total_time,\n",
        "}\n",
        "print(params)\n"
      ]
    },
    {
      "cell_type": "markdown",
      "metadata": {},
      "source": [
        "LIME"
      ]
    },
    {
      "cell_type": "code",
      "execution_count": null,
      "metadata": {},
      "outputs": [],
      "source": []
    }
  ],
  "metadata": {
    "accelerator": "GPU",
    "colab": {
      "gpuType": "T4",
      "include_colab_link": true,
      "provenance": []
    },
    "kernelspec": {
      "display_name": "Python 3",
      "name": "python3"
    },
    "language_info": {
      "codemirror_mode": {
        "name": "ipython",
        "version": 3
      },
      "file_extension": ".py",
      "mimetype": "text/x-python",
      "name": "python",
      "nbconvert_exporter": "python",
      "pygments_lexer": "ipython3",
      "version": "3.8.16"
    },
    "orig_nbformat": 4
  },
  "nbformat": 4,
  "nbformat_minor": 0
}
