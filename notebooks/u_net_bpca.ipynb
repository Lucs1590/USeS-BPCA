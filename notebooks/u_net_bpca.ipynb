{
  "cells": [
    {
      "cell_type": "markdown",
      "metadata": {
        "id": "iU_UgOsYWQ68"
      },
      "source": [
        "# U-net-like with Oxford-IIIT Pet Dataset"
      ]
    },
    {
      "cell_type": "markdown",
      "metadata": {
        "id": "-uHZjOWbWQ7C"
      },
      "source": [
        "## Imports"
      ]
    },
    {
      "cell_type": "code",
      "execution_count": null,
      "metadata": {
        "id": "Tt9oCr-xWQ7D"
      },
      "outputs": [],
      "source": [
        "import os\n",
        "import time\n",
        "import math\n",
        "\n",
        "import tensorflow as tf\n",
        "\n",
        "from tensorflow import keras\n",
        "from tensorflow.keras import layers\n",
        "from tensorflow.keras.utils import plot_model\n",
        "from keras.optimizers import Adam, SGD\n",
        "from keras.metrics import MeanIoU, Accuracy, MeanSquaredError, IoU\n",
        "from keras.callbacks import (EarlyStopping, ModelCheckpoint, CSVLogger)\n",
        "\n",
        "import numpy as np\n",
        "import pandas as pd\n",
        "import matplotlib.pyplot as plt\n",
        "import tensorflow_datasets as tfds\n"
      ]
    },
    {
      "cell_type": "code",
      "execution_count": null,
      "metadata": {
        "id": "2Tpm-dkSWQ7H"
      },
      "outputs": [],
      "source": [
        "os.environ['TF_CPP_MIN_LOG_LEVEL'] = '3'\n",
        "\n",
        "if 'content' in os.getcwd():\n",
        "    COLAB = True\n",
        "    from google.colab import drive\n",
        "    drive.mount('/content/gdrive')\n",
        "    RESOURCES_DIR = f'{os.path.join(os.getcwd(), os.pardir)}/resources/'\n",
        "else:\n",
        "    COLAB = False\n",
        "    RESOURCES_DIR = f'{(os.path.abspath(os.path.join(os.getcwd(), os.pardir)))}/resources/'\n",
        "\n",
        "np.random.seed(77)\n",
        "tf.random.set_seed(77)\n"
      ]
    },
    {
      "cell_type": "markdown",
      "metadata": {
        "id": "YSNDeybWWQ7I"
      },
      "source": [
        "## Constant Variables"
      ]
    },
    {
      "cell_type": "code",
      "execution_count": null,
      "metadata": {
        "id": "a0Aze5D7WQ7I"
      },
      "outputs": [],
      "source": [
        "RESOURCES_DIR = RESOURCES_DIR.replace('..', '').replace('//', '/')\n",
        "None if os.path.isdir(RESOURCES_DIR) else os.mkdir(RESOURCES_DIR)\n",
        "MODEL_NAME = 'bpca_unet'\n",
        "\n",
        "BATCH_SIZE = 64\n",
        "BUFFER_SIZE = 1000\n",
        "HEIGHT, WIDTH = 256, 256\n",
        "NUM_CLASSES = 3  # background, foreground, boundary\n",
        "NUM_EPOCHS = 20\n",
        "VAL_SUBSPLITS = 5\n"
      ]
    },
    {
      "cell_type": "code",
      "execution_count": null,
      "metadata": {
        "id": "gxBjoHAtXJu_"
      },
      "outputs": [],
      "source": [
        "RESOURCES_DIR\n"
      ]
    },
    {
      "cell_type": "markdown",
      "metadata": {
        "id": "5jrpRYaAWQ7J"
      },
      "source": [
        "## Dataset\n",
        "Download and applying transformations to the dataset.\n"
      ]
    },
    {
      "cell_type": "code",
      "execution_count": null,
      "metadata": {
        "id": "XNe-V7VKWQ7K"
      },
      "outputs": [],
      "source": [
        "dataset, info = tfds.load(\n",
        "    'oxford_iiit_pet:3.*.*',\n",
        "    with_info=True,\n",
        "    shuffle_files=True,\n",
        "    data_dir='/content/gdrive/MyDrive/Projetos/' if COLAB else '/home/brito/tensorflow_datasets/',\n",
        ")\n",
        "\n",
        "print(info)\n"
      ]
    },
    {
      "cell_type": "code",
      "execution_count": null,
      "metadata": {
        "id": "_mENGNM9WQ7L"
      },
      "outputs": [],
      "source": [
        "TRAIN_LENGTH = info.splits[\"train\"].num_examples\n",
        "STEPS_PER_EPOCH = TRAIN_LENGTH // BATCH_SIZE\n",
        "\n",
        "TEST_LENTH = info.splits[\"test\"].num_examples - 669\n",
        "VALIDATION_STEPS = TEST_LENTH // BATCH_SIZE // VAL_SUBSPLITS\n"
      ]
    },
    {
      "cell_type": "code",
      "execution_count": null,
      "metadata": {
        "id": "nq2H9FWiWQ7L"
      },
      "outputs": [],
      "source": [
        "def resize(input_image, input_mask):\n",
        "    input_image = tf.image.resize(\n",
        "        input_image,\n",
        "        (HEIGHT, WIDTH),\n",
        "        method=\"nearest\"\n",
        "    )\n",
        "    input_mask = tf.image.resize(input_mask, (HEIGHT, WIDTH), method=\"nearest\")\n",
        "\n",
        "    return input_image, input_mask\n"
      ]
    },
    {
      "cell_type": "code",
      "execution_count": null,
      "metadata": {
        "id": "C62ozCiIWQ7L"
      },
      "outputs": [],
      "source": [
        "def augment(input_image, input_mask):\n",
        "    if tf.random.uniform(()) > 0.5:\n",
        "        input_image = tf.image.flip_left_right(input_image)\n",
        "        input_mask = tf.image.flip_left_right(input_mask)\n",
        "\n",
        "    return input_image, input_mask\n"
      ]
    },
    {
      "cell_type": "code",
      "execution_count": null,
      "metadata": {
        "id": "uRuGfCh8WQ7M"
      },
      "outputs": [],
      "source": [
        "def normalize(input_image, input_mask):\n",
        "    input_image = tf.cast(input_image, tf.float32) / 255.0\n",
        "    input_mask -= 1\n",
        "    return input_image, input_mask\n"
      ]
    },
    {
      "cell_type": "code",
      "execution_count": null,
      "metadata": {
        "id": "Qfz7OXhdWQ7M"
      },
      "outputs": [],
      "source": [
        "def load_image_train(datapoint):\n",
        "    input_image = datapoint[\"image\"]\n",
        "    input_mask = datapoint[\"segmentation_mask\"]\n",
        "    input_image, input_mask = resize(input_image, input_mask)\n",
        "    input_image, input_mask = augment(input_image, input_mask)\n",
        "    input_image, input_mask = normalize(input_image, input_mask)\n",
        "\n",
        "    return input_image, input_mask\n"
      ]
    },
    {
      "cell_type": "code",
      "execution_count": null,
      "metadata": {
        "id": "bopTlkpJWQ7N"
      },
      "outputs": [],
      "source": [
        "def load_image_test(datapoint):\n",
        "    input_image = datapoint[\"image\"]\n",
        "    input_mask = datapoint[\"segmentation_mask\"]\n",
        "    input_image, input_mask = resize(input_image, input_mask)\n",
        "    input_image, input_mask = normalize(input_image, input_mask)\n",
        "\n",
        "    return input_image, input_mask\n"
      ]
    },
    {
      "cell_type": "code",
      "execution_count": null,
      "metadata": {
        "id": "aJCqx1FvWQ7N"
      },
      "outputs": [],
      "source": [
        "train_dataset = dataset[\"train\"].map(\n",
        "    load_image_train, num_parallel_calls=tf.data.AUTOTUNE)\n",
        "test_dataset = dataset[\"test\"].map(\n",
        "    load_image_test, num_parallel_calls=tf.data.AUTOTUNE)\n",
        "\n",
        "print(train_dataset)\n"
      ]
    },
    {
      "cell_type": "code",
      "execution_count": null,
      "metadata": {
        "id": "DJAOBLLDWQ7N"
      },
      "outputs": [],
      "source": [
        "train_batches = train_dataset.cache().shuffle(\n",
        "    BUFFER_SIZE).batch(BATCH_SIZE).repeat()\n",
        "train_batches = train_batches.prefetch(\n",
        "    buffer_size=tf.data.experimental.AUTOTUNE)\n",
        "validation_batches = test_dataset.take(3000).batch(BATCH_SIZE)\n",
        "test_batches = test_dataset.skip(3000).take(669).batch(BATCH_SIZE)\n"
      ]
    },
    {
      "cell_type": "code",
      "execution_count": null,
      "metadata": {
        "id": "7OzDY-mJWQ7N"
      },
      "outputs": [],
      "source": [
        "def display(display_list):\n",
        "    plt.figure(figsize=(15, 15))\n",
        "\n",
        "    title = [\"Input Image\", \"True Mask\", \"Predicted Mask\"]\n",
        "\n",
        "    for i in range(len(display_list)):\n",
        "        plt.subplot(1, len(display_list), i+1)\n",
        "        plt.title(title[i])\n",
        "        plt.imshow(tf.keras.utils.array_to_img(display_list[i]))\n",
        "        plt.axis(\"off\")\n",
        "    plt.show()\n"
      ]
    },
    {
      "cell_type": "code",
      "execution_count": null,
      "metadata": {
        "id": "2tuTAjs0WQ7O"
      },
      "outputs": [],
      "source": [
        "sample_batch = next(iter(train_batches))\n",
        "random_index = np.random.choice(sample_batch[0].shape[0])\n",
        "sample_image, sample_mask = sample_batch[0][random_index], sample_batch[1][random_index]\n",
        "display([sample_image, sample_mask])\n"
      ]
    },
    {
      "cell_type": "markdown",
      "metadata": {
        "id": "6gnsXV4yjKoN"
      },
      "source": [
        "## BPCA"
      ]
    },
    {
      "cell_type": "code",
      "execution_count": null,
      "metadata": {
        "id": "qPVCY3TfjMjU"
      },
      "outputs": [],
      "source": [
        "class BPCAPooling(tf.keras.layers.Layer):\n",
        "    def __init__(self, pool_size=2, stride=2, n_components=1, expected_shape=None, **kwargs):\n",
        "        super(BPCAPooling, self).__init__(**kwargs)\n",
        "        self.pool_size = pool_size\n",
        "        self.stride = stride\n",
        "        self.n_components = n_components\n",
        "        self.expected_shape = expected_shape\n",
        "\n",
        "        self.patch_size = [1, self.pool_size, self.pool_size, 1]\n",
        "        self.strides = [1, self.stride, self.stride, 1]\n",
        "\n",
        "    def build(self, input_shape):\n",
        "        super(BPCAPooling, self).build(input_shape)\n",
        "\n",
        "    @tf.function\n",
        "    def bpca_pooling(self, feature_map):\n",
        "        # Compute the region of interest\n",
        "        h, w, c = self.expected_shape  # block_height, block_width, block_channels\n",
        "        d = c // (self.pool_size * self.pool_size)  # block_depth\n",
        "\n",
        "        # Create blocks (patches)\n",
        "        data = tf.reshape(feature_map, [1, h, w, c])\n",
        "        patches = tf.image.extract_patches(\n",
        "            images=data,\n",
        "            sizes=self.patch_size,\n",
        "            strides=self.strides,\n",
        "            rates=[1, 1, 1, 1],\n",
        "            padding='VALID'\n",
        "        )\n",
        "        patches = tf.reshape(\n",
        "            patches,\n",
        "            [h*w*d, self.pool_size * self.pool_size]\n",
        "        )\n",
        "\n",
        "        # Normalize the data by subtracting the mean and dividing by the standard deviation\n",
        "        mean = tf.reduce_mean(patches, axis=0)\n",
        "        std = tf.math.reduce_std(patches, axis=0)\n",
        "        patches = (patches - mean) / std\n",
        "        patches = tf.where(tf.math.is_nan(patches), 0.0, patches)\n",
        "\n",
        "        # Perform the Singular Value Decomposition (SVD) on the data\n",
        "        _, _, v = tf.linalg.svd(patches)\n",
        "\n",
        "        # Extract the first n principal components from the matrix v\n",
        "        pca_components = v[:, :self.n_components]\n",
        "\n",
        "        # Perform the PCA transformation on the data\n",
        "        transformed_patches = tf.matmul(patches, pca_components)\n",
        "        return tf.reshape(transformed_patches, [h // self.pool_size, w // self.pool_size, c])\n",
        "\n",
        "    def call(self, inputs):\n",
        "        pooled = tf.vectorized_map(self.bpca_pooling, inputs)\n",
        "        return pooled\n"
      ]
    },
    {
      "cell_type": "code",
      "execution_count": null,
      "metadata": {
        "id": "4ZR7Ga8FCYGR"
      },
      "outputs": [],
      "source": [
        "class GlobalBPCAPooling2D(tf.keras.layers.Layer):\n",
        "    def __init__(self, **kwargs):\n",
        "        super(GlobalBPCAPooling2D, self).__init__(**kwargs)\n",
        "\n",
        "    def build(self, input_shape):\n",
        "        super(GlobalBPCAPooling2D, self).build(input_shape)\n",
        "\n",
        "    @tf.function\n",
        "    def bpca_pooling(self, feature_map):\n",
        "        # Compute the region of interest\n",
        "        h, w, c = feature_map.shape  # block_height, block_width, block_channels\n",
        "        pool_size = h\n",
        "        patch_size = [1, pool_size, pool_size, 1]\n",
        "        strides = [1, pool_size, pool_size, 1]\n",
        "\n",
        "        # Create blocks (patches)\n",
        "        data = tf.reshape(feature_map, [1, h, w, c])\n",
        "        patches = tf.image.extract_patches(\n",
        "            images=data,\n",
        "            sizes=patch_size,\n",
        "            strides=strides,\n",
        "            rates=[1, 1, 1, 1],\n",
        "            padding='VALID'\n",
        "        )\n",
        "\n",
        "        patches = tf.reshape(patches, [-1, pool_size * pool_size])\n",
        "\n",
        "        # Normalize the data by subtracting the mean and dividing by the standard deviation\n",
        "        mean = tf.reduce_mean(patches, axis=0)\n",
        "        std = tf.math.reduce_std(patches, axis=0)\n",
        "        patches = (patches - mean) / std\n",
        "        patches = tf.where(tf.math.is_nan(patches), 0.0, patches)\n",
        "\n",
        "        # Perform the Singular Value Decomposition (SVD) on the data\n",
        "        _, _, v = tf.linalg.svd(patches)\n",
        "\n",
        "        # Extract the first principal component from the matrix v\n",
        "        pca_components = v[:, :1]\n",
        "\n",
        "        # Perform the PCA transformation on the data\n",
        "        transformed_patches = tf.matmul(patches, pca_components)\n",
        "\n",
        "        return tf.reshape(transformed_patches, [h // pool_size, w // pool_size, c])\n",
        "\n",
        "    def call(self, inputs):\n",
        "        pooled = tf.vectorized_map(self.bpca_pooling, inputs)\n",
        "        pooled = tf.reshape(pooled, [-1, pooled.shape[-1]])\n",
        "        return pooled\n"
      ]
    },
    {
      "cell_type": "code",
      "execution_count": null,
      "metadata": {
        "id": "WcpjydzzqnTi"
      },
      "outputs": [],
      "source": [
        "def calculate_power_inverted_value(x):\n",
        "    y = 64 / math.sqrt(x)\n",
        "    return int(y)\n",
        "\n",
        "def get_layers_number(number):\n",
        "    numbers = [16, 32, 64, 128, 256]\n",
        "    numb_position = numbers.index(number) + 1\n",
        "    return numbers[-numb_position]\n",
        "\n",
        "def get_layers_number(number):\n",
        "  if number == 64:\n",
        "    return (128, 128, 64)\n",
        "  if number == 128:\n",
        "    return (64, 64, 128)\n",
        "  if number == 256:\n",
        "    return (32, 32, 256)\n",
        "\n"
      ]
    },
    {
      "cell_type": "markdown",
      "metadata": {
        "id": "EztL-cByWQ7O"
      },
      "source": [
        "## U-net-like architecture\n"
      ]
    },
    {
      "cell_type": "code",
      "execution_count": null,
      "metadata": {
        "id": "2ctoBsK0WQ7O"
      },
      "outputs": [],
      "source": [
        "def get_unet_model(img_size, num_classes):\n",
        "    inputs = keras.Input(shape=img_size + (3,))\n",
        "\n",
        "    ### [First half of the network: downsampling inputs] ###\n",
        "\n",
        "    # Entry block\n",
        "    x = keras.layers.Conv2D(32, 3, strides=2, padding=\"same\")(inputs)\n",
        "    x = keras.layers.BatchNormalization()(x)\n",
        "    x = keras.layers.Activation(\"relu\")(x)\n",
        "\n",
        "    previous_block_activation = x  # Set aside residual\n",
        "\n",
        "    # Blocks 1, 2, 3 are identical apart from the feature depth.\n",
        "    for filters in [64, 128, 256]:\n",
        "        x = keras.layers.Activation(\"relu\")(x)\n",
        "        x = keras.layers.SeparableConv2D(filters, 3, padding=\"same\")(x)\n",
        "        x = keras.layers.BatchNormalization()(x)\n",
        "\n",
        "        x = keras.layers.Activation(\"relu\")(x)\n",
        "        x = keras.layers.SeparableConv2D(filters, 3, padding=\"same\")(x)\n",
        "        x = keras.layers.BatchNormalization()(x)\n",
        "\n",
        "        # x = keras.layers.MaxPooling2D(2, strides=2, padding=\"same\")(x)\n",
        "        print(filters)\n",
        "        x = BPCAPooling(pool_size=2, stride=2, expected_shape=get_layers_number(filters))(x)\n",
        "        print(filters, x.shape)\n",
        "\n",
        "\n",
        "        # Project residual\n",
        "        residual = keras.layers.Conv2D(filters, 1, strides=2, padding=\"same\")(\n",
        "            previous_block_activation\n",
        "        )\n",
        "        x = keras.layers.add([x, residual])  # Add back residual\n",
        "        previous_block_activation = x  # Set aside next residual\n",
        "\n",
        "    ### [Second half of the network: upsampling inputs] ###\n",
        "\n",
        "    for filters in [256, 128, 64, 32]:\n",
        "        x = keras.layers.Activation(\"relu\")(x)\n",
        "        x = keras.layers.Conv2DTranspose(filters, 3, padding=\"same\")(x)\n",
        "        x = keras.layers.BatchNormalization()(x)\n",
        "\n",
        "        x = keras.layers.Activation(\"relu\")(x)\n",
        "        x = keras.layers.Conv2DTranspose(filters, 3, padding=\"same\")(x)\n",
        "        x = keras.layers.BatchNormalization()(x)\n",
        "\n",
        "        x = keras.layers.UpSampling2D(2)(x)\n",
        "\n",
        "        # Project residual\n",
        "        residual = keras.layers.UpSampling2D(2)(previous_block_activation)\n",
        "        residual = keras.layers.Conv2D(filters, 1, padding=\"same\")(residual)\n",
        "        x = keras.layers.add([x, residual])  # Add back residual\n",
        "        previous_block_activation = x  # Set aside next residual\n",
        "\n",
        "    # Add a per-pixel classification layer\n",
        "    outputs = keras.layers.Conv2D(num_classes, 3, activation=\"softmax\", padding=\"same\")(\n",
        "        x\n",
        "    )\n",
        "\n",
        "    # Define the model\n",
        "    model = keras.Model(inputs, outputs)\n",
        "    return model\n"
      ]
    },
    {
      "cell_type": "code",
      "execution_count": null,
      "metadata": {
        "id": "1Pf_n7UBWQ7O"
      },
      "outputs": [],
      "source": [
        "model = get_unet_model(img_size=(HEIGHT, WIDTH), num_classes=NUM_CLASSES)\n"
      ]
    },
    {
      "cell_type": "code",
      "execution_count": null,
      "metadata": {
        "id": "Q9-DNGqNWQ7O"
      },
      "outputs": [],
      "source": [
        "model.summary()\n"
      ]
    },
    {
      "cell_type": "code",
      "execution_count": null,
      "metadata": {
        "id": "dZm2HfrjWQ7P"
      },
      "outputs": [],
      "source": [
        "for i, layer in enumerate(model.layers):\n",
        "    print(i, layer.name, layer.trainable)\n"
      ]
    },
    {
      "cell_type": "code",
      "execution_count": null,
      "metadata": {
        "id": "mhFQn_z1WQ7P"
      },
      "outputs": [],
      "source": [
        "# plot_model(\n",
        "#     model,\n",
        "#     to_file=f'{RESOURCES_DIR}model.png',\n",
        "#     show_shapes=True,\n",
        "#     show_layer_names=True,\n",
        "#     rankdir='TB'\n",
        "# )\n"
      ]
    },
    {
      "cell_type": "markdown",
      "metadata": {
        "id": "kzZ2uEZXWQ7P"
      },
      "source": [
        "## Training & Testing"
      ]
    },
    {
      "cell_type": "code",
      "execution_count": null,
      "metadata": {
        "id": "cv3JmRuFWQ7P"
      },
      "outputs": [],
      "source": [
        "optimizer = Adam(learning_rate=1e-5)\n",
        "# optimizer = SGD(learning_rate=1e-5)\n",
        "\n",
        "metric_1 = MeanIoU(num_classes=NUM_CLASSES)\n",
        "metric_2 = MeanSquaredError()\n",
        "metric_3 = IoU(num_classes=NUM_CLASSES, target_class_ids=[0,1,2])\n",
        "\n",
        "model.compile(\n",
        "    optimizer=optimizer,\n",
        "    loss=tf.keras.losses.SparseCategoricalCrossentropy(),\n",
        "    metrics=[\"accuracy\"]\n",
        "    # metrics=[metric_1]\n",
        "    # metrics=[\"accuracy\", metric_1, metric_2, metric_3]\n",
        ")\n"
      ]
    },
    {
      "cell_type": "code",
      "execution_count": null,
      "metadata": {
        "id": "E56REJ1AWQ7P"
      },
      "outputs": [],
      "source": [
        "model_checkpointer = ModelCheckpoint(\n",
        "    f'{RESOURCES_DIR}{MODEL_NAME}.h5',\n",
        "    monitor='val_accuracy',\n",
        "    verbose=1,\n",
        "    save_best_only=True,\n",
        "    save_weights_only=False,\n",
        "    mode='max'\n",
        ")\n",
        "store_history = CSVLogger(f'{RESOURCES_DIR}{MODEL_NAME}.csv', append=True)\n",
        "early_stopping = EarlyStopping(\n",
        "    monitor='val_accuracy',\n",
        "    min_delta=0,\n",
        "    mode='auto',\n",
        "    verbose=1,\n",
        "    patience=100\n",
        ")\n",
        "\n",
        "start_time = time.perf_counter()\n",
        "with tf.device('/gpu:0'):\n",
        "    model_history = model.fit(\n",
        "        train_batches,\n",
        "        epochs=NUM_EPOCHS,\n",
        "        steps_per_epoch=STEPS_PER_EPOCH,\n",
        "        validation_steps=VALIDATION_STEPS,\n",
        "        validation_data=validation_batches,\n",
        "        verbose=1,\n",
        "\n",
        "        callbacks=[\n",
        "            model_checkpointer,\n",
        "            store_history\n",
        "            # early_stopping\n",
        "        ]\n",
        "    )\n",
        "end_time = time.perf_counter()\n"
      ]
    },
    {
      "cell_type": "code",
      "execution_count": null,
      "metadata": {
        "id": "GyJ2XljnWQ7R"
      },
      "outputs": [],
      "source": [
        "print(f'Time to train: {str(\"{0:.2f}\".format((end_time - start_time) / 60))}')\n"
      ]
    },
    {
      "cell_type": "code",
      "execution_count": null,
      "metadata": {
        "id": "H7Dc4TE2WQ7R"
      },
      "outputs": [],
      "source": [
        "model.save(f'{RESOURCES_DIR}{MODEL_NAME}_last_epoch.h5')\n",
        "model_json = model.to_json()\n",
        "with open(f'{RESOURCES_DIR}{MODEL_NAME}.json', \"w\") as json_file:\n",
        "    json_file.write(model_json)\n"
      ]
    },
    {
      "cell_type": "code",
      "execution_count": null,
      "metadata": {
        "id": "OelGCFDrWQ7R"
      },
      "outputs": [],
      "source": [
        "loss, accuracy = model.evaluate(test_batches, verbose=1)\n",
        "print(\"Loss:\", loss)\n",
        "print(\"Accuracy: %.2f%%\" % (accuracy * 100))\n"
      ]
    },
    {
      "cell_type": "code",
      "execution_count": null,
      "metadata": {
        "id": "ArdS4_e1WQ7S"
      },
      "outputs": [],
      "source": [
        "if isinstance(model_history, pd.DataFrame):\n",
        "    plt.plot(model_history['loss'])\n",
        "    plt.plot(model_history['val_loss'])\n",
        "    plt.legend(['train', 'test'])\n",
        "    plt.title('loss')\n",
        "    plt.legend([\"Loss\", \"Validation Loss\"])\n",
        "    plt.savefig(\"loss.png\", dpi=300, format=\"png\")\n",
        "    plt.figure()\n",
        "    plt.plot(model_history[\"accuracy\"])\n",
        "    plt.plot(model_history['val_accuracy'])\n",
        "    plt.legend(['train', 'test'])\n",
        "    plt.title('accuracy')\n",
        "\n",
        "else:\n",
        "    plt.plot(model_history.history['loss'])\n",
        "    plt.plot(model_history.history['val_loss'])\n",
        "    plt.legend(['train', 'test'])\n",
        "    plt.title('loss')\n",
        "    plt.legend([\"Loss\", \"Validation Loss\"])\n",
        "    plt.savefig(\"loss.png\", dpi=300, format=\"png\")\n",
        "    plt.figure()\n",
        "    plt.plot(model_history.history[\"accuracy\"])\n",
        "    plt.plot(model_history.history['val_accuracy'])\n",
        "    plt.legend(['train', 'test'])\n",
        "    plt.title('accuracy')\n",
        "\n",
        "plt.legend([\"Accuracy\", \"Validation Accuracy\"])\n",
        "plt.savefig(\"accuracy.png\", dpi=300, format=\"png\")\n"
      ]
    },
    {
      "cell_type": "markdown",
      "metadata": {
        "id": "hu_BSr2tWQ7S"
      },
      "source": [
        "## Prediction"
      ]
    },
    {
      "cell_type": "code",
      "execution_count": null,
      "metadata": {
        "id": "6HW_qEluWQ7S"
      },
      "outputs": [],
      "source": [
        "def create_mask(pred_mask):\n",
        "    pred_mask = tf.argmax(pred_mask, axis=-1)\n",
        "    pred_mask = pred_mask[..., tf.newaxis]\n",
        "    return pred_mask[0]\n"
      ]
    },
    {
      "cell_type": "code",
      "execution_count": null,
      "metadata": {
        "id": "39p9G2EfWQ7T"
      },
      "outputs": [],
      "source": [
        "def show_predictions(dataset=None, num=1):\n",
        "    if dataset:\n",
        "        for image, mask in dataset.take(num):\n",
        "            pred_mask = model.predict(image)\n",
        "            display([image[0], mask[0], create_mask(pred_mask)])\n",
        "    else:\n",
        "        display([sample_image, sample_mask,\n",
        "                 create_mask(model.predict(sample_image[tf.newaxis, ...]))])\n"
      ]
    },
    {
      "cell_type": "code",
      "execution_count": null,
      "metadata": {
        "id": "BawSpRhjWQ7T"
      },
      "outputs": [],
      "source": [
        "show_predictions(test_batches.skip(5), 3)\n"
      ]
    }
  ],
  "metadata": {
    "accelerator": "GPU",
    "colab": {
      "gpuType": "T4",
      "provenance": [],
      "toc_visible": true
    },
    "kernelspec": {
      "display_name": "Python 3",
      "name": "python3"
    },
    "language_info": {
      "codemirror_mode": {
        "name": "ipython",
        "version": 3
      },
      "file_extension": ".py",
      "mimetype": "text/x-python",
      "name": "python",
      "nbconvert_exporter": "python",
      "pygments_lexer": "ipython3",
      "version": "3.8.16"
    },
    "orig_nbformat": 4
  },
  "nbformat": 4,
  "nbformat_minor": 0
}
