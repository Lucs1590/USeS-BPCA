{
  "cells": [
    {
      "cell_type": "markdown",
      "metadata": {
        "colab_type": "text",
        "id": "view-in-github"
      },
      "source": [
        "<a href=\"https://colab.research.google.com/github/Lucs1590/USeS-BPCA/blob/main/notebooks/u_net_bpca.ipynb\" target=\"_parent\"><img src=\"https://colab.research.google.com/assets/colab-badge.svg\" alt=\"Open In Colab\"/></a>"
      ]
    },
    {
      "cell_type": "markdown",
      "metadata": {
        "id": "iU_UgOsYWQ68"
      },
      "source": [
        "# U-net-like with Cityscape"
      ]
    },
    {
      "cell_type": "markdown",
      "metadata": {
        "id": "-uHZjOWbWQ7C"
      },
      "source": [
        "## Imports"
      ]
    },
    {
      "cell_type": "code",
      "execution_count": null,
      "metadata": {
        "id": "Tt9oCr-xWQ7D"
      },
      "outputs": [],
      "source": [
        "import os\n",
        "import json\n",
        "import time\n",
        "import math\n",
        "import random\n",
        "\n",
        "from datetime import datetime\n",
        "from pathlib import Path\n",
        "from typing import Tuple\n",
        "\n",
        "import tensorflow as tf\n",
        "\n",
        "from tensorflow import keras\n",
        "from tensorflow.keras import layers\n",
        "from tensorflow.keras.utils import plot_model\n",
        "from keras.optimizers import Adam, SGD\n",
        "from keras.models import load_model\n",
        "from keras.callbacks import (\n",
        "    EarlyStopping,\n",
        "    ModelCheckpoint,\n",
        "    CSVLogger,\n",
        "    TensorBoard,\n",
        "    ReduceLROnPlateau,\n",
        "    Callback\n",
        ")\n",
        "\n",
        "import numpy as np\n",
        "import pandas as pd\n",
        "import matplotlib.cm as cm\n",
        "import matplotlib.pyplot as plt\n",
        "import tensorflow_datasets as tfds\n",
        "\n",
        "from IPython.display import Image\n",
        "from IPython.display import display as display_ipython\n"
      ]
    },
    {
      "cell_type": "code",
      "execution_count": null,
      "metadata": {
        "colab": {
          "base_uri": "https://localhost:8080/"
        },
        "id": "2Tpm-dkSWQ7H",
        "outputId": "fc257172-b67b-40ee-c7eb-7f23d0542fec"
      },
      "outputs": [],
      "source": [
        "os.environ['TF_CPP_MIN_LOG_LEVEL'] = '3'\n",
        "\n",
        "if 'content' in os.getcwd():\n",
        "    COLAB = True\n",
        "    from google.colab import drive\n",
        "    drive.mount('/content/gdrive')\n",
        "    RESOURCES_DIR = f'{os.path.join(os.getcwd(), os.pardir)}/resources/'\n",
        "else:\n",
        "    COLAB = False\n",
        "    RESOURCES_DIR = f'{(os.path.abspath(os.path.join(os.getcwd(), os.pardir)))}/resources/'\n",
        "\n",
        "np.random.seed(77)\n",
        "tf.random.set_seed(77)\n"
      ]
    },
    {
      "cell_type": "markdown",
      "metadata": {
        "id": "YSNDeybWWQ7I"
      },
      "source": [
        "## Constant Variables"
      ]
    },
    {
      "cell_type": "code",
      "execution_count": null,
      "metadata": {
        "id": "a0Aze5D7WQ7I"
      },
      "outputs": [],
      "source": [
        "RESOURCES_DIR = RESOURCES_DIR.replace('..', '').replace('//', '/')\n",
        "None if os.path.isdir(RESOURCES_DIR) else os.mkdir(RESOURCES_DIR)\n",
        "LOGS_DIR = f'{RESOURCES_DIR}logs/{datetime.now().strftime(\"%Y%m%d-%H%M%S\")}'\n",
        "None if os.path.isdir(LOGS_DIR) else os.makedirs(LOGS_DIR, exist_ok=True)\n",
        "\n",
        "MODEL_NAME = 'bpca_unetlike'\n",
        "\n",
        "BATCH_SIZE = 16\n",
        "BUFFER_SIZE = 1000\n",
        "HEIGHT, WIDTH = 256, 256\n",
        "NUM_CLASSES = 3\n",
        "NUM_EPOCHS = 500\n",
        "VAL_SUBSPLITS = 5\n"
      ]
    },
    {
      "cell_type": "code",
      "execution_count": null,
      "metadata": {
        "colab": {
          "base_uri": "https://localhost:8080/",
          "height": 35
        },
        "id": "gxBjoHAtXJu_",
        "outputId": "0e561883-f9e6-4344-c79b-ecd39b96c8fc"
      },
      "outputs": [],
      "source": [
        "RESOURCES_DIR\n"
      ]
    },
    {
      "cell_type": "markdown",
      "metadata": {
        "id": "5jrpRYaAWQ7J"
      },
      "source": [
        "## Dataset\n",
        "Download and applying transformations to the dataset.\n"
      ]
    },
    {
      "cell_type": "code",
      "execution_count": null,
      "metadata": {
        "colab": {
          "base_uri": "https://localhost:8080/"
        },
        "id": "XNe-V7VKWQ7K",
        "outputId": "2a07c04e-6f23-4299-f2d9-dd45698dbbcd"
      },
      "outputs": [],
      "source": [
        "dataset = 'cityscapes'\n",
        "builder = tfds.builder(dataset)\n",
        "builder.download_and_prepare()"
      ]
    },
    {
      "cell_type": "code",
      "execution_count": null,
      "metadata": {},
      "outputs": [],
      "source": [
        "dataset, info = builder.as_dataset(), builder.info"
      ]
    },
    {
      "cell_type": "code",
      "execution_count": null,
      "metadata": {
        "id": "_mENGNM9WQ7L"
      },
      "outputs": [],
      "source": [
        "TRAIN_LENGTH = info.splits[\"train\"].num_examples\n",
        "STEPS_PER_EPOCH = TRAIN_LENGTH // BATCH_SIZE\n",
        "\n",
        "TEST_LENTH = info.splits[\"test\"].num_examples - int(info.splits[\"test\"].num_examples * 0.2)\n",
        "VALIDATION_STEPS = TEST_LENTH // BATCH_SIZE // VAL_SUBSPLITS\n",
        "LEARNING_RATE = 1e-4\n"
      ]
    },
    {
      "cell_type": "code",
      "execution_count": null,
      "metadata": {
        "id": "nq2H9FWiWQ7L"
      },
      "outputs": [],
      "source": [
        "def resize(input_image, input_mask):\n",
        "    input_image = tf.image.resize(\n",
        "        input_image,\n",
        "        (HEIGHT, WIDTH),\n",
        "        method=\"nearest\"\n",
        "    )\n",
        "    input_mask = tf.image.resize(input_mask, (HEIGHT, WIDTH), method=\"nearest\")\n",
        "\n",
        "    return input_image, input_mask\n"
      ]
    },
    {
      "cell_type": "code",
      "execution_count": null,
      "metadata": {
        "id": "C62ozCiIWQ7L"
      },
      "outputs": [],
      "source": [
        "def augment(input_image, input_mask):\n",
        "    if tf.random.uniform(()) > 0.5:\n",
        "        input_image = tf.image.flip_left_right(input_image)\n",
        "        input_mask = tf.image.flip_left_right(input_mask)\n",
        "\n",
        "    if tf.random.uniform(()) > 0.5:\n",
        "        input_image = tf.image.flip_up_down(input_image)\n",
        "        input_mask = tf.image.flip_up_down(input_mask)\n",
        "\n",
        "    # color augmentation\n",
        "    if tf.random.uniform(()) > 0.5:\n",
        "        input_image = tf.image.random_saturation(input_image, 0, 2)\n",
        "        input_image = tf.image.random_brightness(input_image, 0.35)\n",
        "        input_image = tf.image.random_contrast(input_image, 0, 2)\n",
        "\n",
        "    # rotation augmentation\n",
        "    if tf.random.uniform(()) > 0.5:\n",
        "        random_degree = random.uniform(-25, 25)\n",
        "        input_image = tf.image.rot90(input_image, k=int(random_degree // 90))\n",
        "        input_mask = tf.image.rot90(input_mask, k=int(random_degree // 90))\n",
        "\n",
        "    # Gausian blur augmentation\n",
        "    if tf.random.uniform(()) > 0.5:\n",
        "        input_image = tf.image.resize(\n",
        "            input_image,\n",
        "            (256, 256),\n",
        "            method=\"nearest\"\n",
        "        )\n",
        "        input_image = tf.image.resize(\n",
        "            input_image,\n",
        "            (128, 128),\n",
        "            method=\"nearest\"\n",
        "        )\n",
        "        input_image = tf.image.resize(\n",
        "            input_image,\n",
        "            (256, 256),\n",
        "            method=\"nearest\"\n",
        "        )\n",
        "    \n",
        "    return input_image, input_mask"
      ]
    },
    {
      "cell_type": "code",
      "execution_count": null,
      "metadata": {
        "id": "uRuGfCh8WQ7M"
      },
      "outputs": [],
      "source": [
        "def normalize(input_image, input_mask):\n",
        "    input_image = tf.cast(input_image, tf.float32) / 255.0\n",
        "    input_mask -= 1\n",
        "    return input_image, input_mask\n"
      ]
    },
    {
      "cell_type": "code",
      "execution_count": null,
      "metadata": {
        "id": "Qfz7OXhdWQ7M"
      },
      "outputs": [],
      "source": [
        "def load_image_train(datapoint):\n",
        "    input_image = datapoint[\"image_left\"]\n",
        "    input_mask = datapoint[\"segmentation_label\"]\n",
        "    input_image, input_mask = resize(input_image, input_mask)\n",
        "    input_image, input_mask = augment(input_image, input_mask)\n",
        "    input_image, input_mask = normalize(input_image, input_mask)\n",
        "\n",
        "    return input_image, input_mask\n"
      ]
    },
    {
      "cell_type": "code",
      "execution_count": null,
      "metadata": {
        "id": "bopTlkpJWQ7N"
      },
      "outputs": [],
      "source": [
        "def load_image_test(datapoint):\n",
        "    input_image = datapoint[\"image_left\"]\n",
        "    input_mask = datapoint[\"segmentation_label\"]\n",
        "    input_image, input_mask = resize(input_image, input_mask)\n",
        "    input_image, input_mask = normalize(input_image, input_mask)\n",
        "\n",
        "    return input_image, input_mask\n"
      ]
    },
    {
      "cell_type": "code",
      "execution_count": null,
      "metadata": {
        "colab": {
          "base_uri": "https://localhost:8080/"
        },
        "id": "aJCqx1FvWQ7N",
        "outputId": "e359ba66-1245-42a6-de09-22b31bd75383"
      },
      "outputs": [],
      "source": [
        "train_dataset = dataset[\"train\"].map(\n",
        "    load_image_train, num_parallel_calls=tf.data.AUTOTUNE)\n",
        "test_dataset = dataset[\"test\"].map(\n",
        "    load_image_test, num_parallel_calls=tf.data.AUTOTUNE)\n",
        "\n",
        "print(train_dataset)\n"
      ]
    },
    {
      "cell_type": "code",
      "execution_count": null,
      "metadata": {
        "id": "DJAOBLLDWQ7N"
      },
      "outputs": [],
      "source": [
        "train_batches = train_dataset.cache().shuffle(\n",
        "    BUFFER_SIZE).batch(BATCH_SIZE).repeat()\n",
        "train_batches = train_batches.prefetch(\n",
        "    buffer_size=tf.data.experimental.AUTOTUNE)\n",
        "validation_batches = test_dataset.take(3000).batch(BATCH_SIZE)\n",
        "test_batches = test_dataset.skip(3000).take(669).batch(BATCH_SIZE)\n"
      ]
    },
    {
      "cell_type": "code",
      "execution_count": null,
      "metadata": {
        "id": "7OzDY-mJWQ7N"
      },
      "outputs": [],
      "source": [
        "def display(display_list, name=None):\n",
        "    plt.figure(figsize=(15, 15))\n",
        "\n",
        "    title = [\"Input Image\", \"True Mask\", \"Predicted Mask\"]\n",
        "\n",
        "    for i in range(len(display_list)):\n",
        "        plt.subplot(1, len(display_list), i+1)\n",
        "        plt.title(title[i])\n",
        "        plt.imshow(tf.keras.utils.array_to_img(display_list[i]))\n",
        "        plt.axis(\"off\")\n",
        "\n",
        "    if name:\n",
        "        plt.savefig(f'{RESOURCES_DIR}prediction_{random.randint(0, 1000)}.png', dpi=300, format=\"png\")\n",
        "\n",
        "    plt.show()\n"
      ]
    },
    {
      "cell_type": "code",
      "execution_count": null,
      "metadata": {
        "colab": {
          "base_uri": "https://localhost:8080/",
          "height": 587
        },
        "id": "2tuTAjs0WQ7O",
        "outputId": "3f3b472f-6e10-4e86-9c7c-69e463eab147"
      },
      "outputs": [],
      "source": [
        "sample_batch = next(iter(train_batches))\n",
        "random_index = np.random.choice(sample_batch[0].shape[0])\n",
        "sample_image, sample_mask = sample_batch[0][random_index], sample_batch[1][random_index]\n",
        "display([sample_image, sample_mask])\n"
      ]
    },
    {
      "cell_type": "markdown",
      "metadata": {
        "id": "6gnsXV4yjKoN"
      },
      "source": [
        "## BPCA"
      ]
    },
    {
      "cell_type": "code",
      "execution_count": null,
      "metadata": {
        "id": "qPVCY3TfjMjU"
      },
      "outputs": [],
      "source": [
        "class BPCAPooling(tf.keras.layers.Layer):\n",
        "    def __init__(self, pool_size=2, stride=2, n_components=1, expected_shape=None, **kwargs):\n",
        "        super(BPCAPooling, self).__init__(**kwargs)\n",
        "        self.pool_size = pool_size\n",
        "        self.stride = stride\n",
        "        self.n_components = n_components\n",
        "        self.expected_shape = expected_shape\n",
        "\n",
        "        self.patch_size = [1, self.pool_size, self.pool_size, 1]\n",
        "        self.strides = [1, self.stride, self.stride, 1]\n",
        "\n",
        "    def build(self, input_shape):\n",
        "        super(BPCAPooling, self).build(input_shape)\n",
        "\n",
        "    @tf.function\n",
        "    def bpca_pooling(self, feature_map):\n",
        "        # Compute the region of interest\n",
        "        h, w, c = self.expected_shape  # block_height, block_width, block_channels\n",
        "        d = c // (self.pool_size * self.pool_size)  # block_depth\n",
        "\n",
        "        # Create blocks (patches)\n",
        "        data = tf.reshape(feature_map, [1, h, w, c])\n",
        "        patches = tf.image.extract_patches(\n",
        "            images=data,\n",
        "            sizes=self.patch_size,\n",
        "            strides=self.strides,\n",
        "            rates=[1, 1, 1, 1],\n",
        "            padding='VALID'\n",
        "        )\n",
        "        patches = tf.reshape(\n",
        "            patches,\n",
        "            [h*w*d, self.pool_size * self.pool_size]\n",
        "        )\n",
        "\n",
        "        # Normalize the data by subtracting the mean and dividing by the standard deviation\n",
        "        mean = tf.reduce_mean(patches, axis=0)\n",
        "        std = tf.math.reduce_std(patches, axis=0)\n",
        "        patches = (patches - mean) / std\n",
        "        patches = tf.where(tf.math.is_nan(patches), 0.0, patches)\n",
        "\n",
        "        # Perform the Singular Value Decomposition (SVD) on the data\n",
        "        _, _, v = tf.linalg.svd(patches)\n",
        "\n",
        "        # Extract the first n principal components from the matrix v\n",
        "        pca_components = v[:, :self.n_components]\n",
        "\n",
        "        # Perform the PCA transformation on the data\n",
        "        transformed_patches = tf.matmul(patches, pca_components)\n",
        "        return tf.reshape(transformed_patches, [h // self.pool_size, w // self.pool_size, c])\n",
        "\n",
        "    def call(self, inputs):\n",
        "        pooled = tf.vectorized_map(self.bpca_pooling, inputs)\n",
        "        return pooled\n"
      ]
    },
    {
      "cell_type": "markdown",
      "metadata": {
        "id": "EztL-cByWQ7O"
      },
      "source": [
        "## U-net-like architecture\n"
      ]
    },
    {
      "cell_type": "code",
      "execution_count": null,
      "metadata": {
        "id": "WcpjydzzqnTi"
      },
      "outputs": [],
      "source": [
        "def get_layers_nmb_unetlike_pooling(number):\n",
        "    if number == 32:\n",
        "        return (256, 256, 32)\n",
        "    if number == 64:\n",
        "        return (128, 128, 64)\n",
        "    if number == 128:\n",
        "        return (64, 64, 128)\n",
        "    if number == 256:\n",
        "        return (32, 32, 256)\n",
        "    if number == 512:\n",
        "        return (16, 16, 512)\n",
        "    else:\n",
        "        return (0, 0, 0)\n",
        "\n",
        "\n",
        "def get_layers_nmb_unetlike_unpooling(number):\n",
        "    if number == 256:\n",
        "        return (32, 32, 256)\n",
        "    if number == 128:\n",
        "        return (64, 64, 128)\n",
        "    if number == 64:\n",
        "        return (128, 128, 64)\n",
        "    if number == 32:\n",
        "        return (256, 256, 32)\n"
      ]
    },
    {
      "cell_type": "code",
      "execution_count": null,
      "metadata": {
        "id": "2ctoBsK0WQ7O"
      },
      "outputs": [],
      "source": [
        "def get_unetlike_model(img_size, num_classes):\n",
        "    inputs = keras.Input(shape=img_size + (3,))\n",
        "\n",
        "    ### [First half of the network: downsampling inputs] ###\n",
        "\n",
        "    # Entry block\n",
        "    x = keras.layers.Conv2D(32, 3, strides=2, padding=\"same\")(inputs)\n",
        "    x = keras.layers.BatchNormalization()(x)\n",
        "    x = keras.layers.Activation(\"relu\")(x)\n",
        "\n",
        "    previous_block_activation = x  # Set aside residual\n",
        "\n",
        "    # Blocks 1, 2, 3 are identical apart from the feature depth.\n",
        "    for filters in [64, 128, 256]:\n",
        "        x = keras.layers.Activation(\"relu\")(x)\n",
        "        x = keras.layers.SeparableConv2D(filters, 3, padding=\"same\")(x)\n",
        "        x = keras.layers.BatchNormalization()(x)\n",
        "\n",
        "        x = keras.layers.Activation(\"relu\")(x)\n",
        "        x = keras.layers.SeparableConv2D(filters, 3, padding=\"same\")(x)\n",
        "        x = keras.layers.BatchNormalization()(x)\n",
        "\n",
        "        # x = keras.layers.MaxPooling2D(2, strides=2, padding=\"same\")(x)\n",
        "        x = BPCAPooling(pool_size=2, stride=2, expected_shape=get_layers_nmb_unetlike_pooling(filters))(x)\n",
        "        # print(filters, x.shape)\n",
        "\n",
        "        # Project residual\n",
        "        residual = keras.layers.Conv2D(filters, 1, strides=2, padding=\"same\")(\n",
        "            previous_block_activation\n",
        "        )\n",
        "        x = keras.layers.add([x, residual])  # Add back residual\n",
        "        previous_block_activation = x  # Set aside next residual\n",
        "\n",
        "    ### [Second half of the network: upsampling inputs] ###\n",
        "\n",
        "    for filters in [256, 128, 64, 32]:\n",
        "        x = keras.layers.Activation(\"relu\")(x)\n",
        "        x = keras.layers.Conv2DTranspose(filters, 3, padding=\"same\")(x)\n",
        "        x = keras.layers.BatchNormalization()(x)\n",
        "\n",
        "        x = keras.layers.Activation(\"relu\")(x)\n",
        "        x = keras.layers.Conv2DTranspose(filters, 3, padding=\"same\")(x)\n",
        "        x = keras.layers.BatchNormalization()(x)\n",
        "\n",
        "        x = keras.layers.UpSampling2D(2)(x)\n",
        "        # x = BPCAUnpooling(pool_size=2, stride=2, expected_shape=get_layers_nmb_unetlike_unpooling(filters))(x)\n",
        "        print(filters, x.shape)\n",
        "\n",
        "        # Project residual\n",
        "        residual = keras.layers.UpSampling2D(2)(previous_block_activation)\n",
        "        # residual = BPCAUnpooling(pool_size=2, stride=2, expected_shape=get_layers_nmb_unetlike_unpooling(filters))(previous_block_activation)\n",
        "        residual = keras.layers.Conv2D(filters, 1, padding=\"same\")(residual)\n",
        "        x = keras.layers.add([x, residual])  # Add back residual\n",
        "        previous_block_activation = x  # Set aside next residual\n",
        "\n",
        "    # Add a per-pixel classification layer\n",
        "    outputs = keras.layers.Conv2D(num_classes, 3, activation=\"softmax\", padding=\"same\")(\n",
        "        x\n",
        "    )\n",
        "\n",
        "    # Define the model\n",
        "    model = keras.Model(inputs, outputs)\n",
        "    return model\n"
      ]
    },
    {
      "cell_type": "markdown",
      "metadata": {},
      "source": [
        "## U-Net architecture"
      ]
    },
    {
      "cell_type": "code",
      "execution_count": null,
      "metadata": {},
      "outputs": [],
      "source": [
        "def get_layers_nmb_unet_pooling(number):\n",
        "    if number == 64:\n",
        "        return (256, 256, 64)\n",
        "    if number == 128:\n",
        "        return (128, 128, 128)\n",
        "    if number == 256:\n",
        "        return (64, 64, 256)\n",
        "    if number == 512:\n",
        "        return (32, 32, 512)\n",
        "    else:\n",
        "        return (0, 0, 0)\n",
        "\n",
        "\n",
        "def get_layers_nmb_unet_unpooling(number):\n",
        "    if number == 64:\n",
        "        return (256, 256, 64)\n",
        "    if number == 128:\n",
        "        return (128, 128, 128)\n",
        "    if number == 256:\n",
        "        return (64, 64, 256)\n",
        "    if number == 512:\n",
        "        return (32, 32, 512)\n",
        "    else:\n",
        "        return (0, 0, 0)"
      ]
    },
    {
      "cell_type": "code",
      "execution_count": null,
      "metadata": {},
      "outputs": [],
      "source": [
        "def get_unet_model(img_size, num_classes):\n",
        "    def convolution_block(input, num_filters):\n",
        "        x = layers.Conv2D(num_filters, 3, padding='same')(input)\n",
        "        x = layers.BatchNormalization()(x)\n",
        "        x = layers.Activation('relu')(x)\n",
        "\n",
        "        x = layers.Conv2D(num_filters, 3, padding='same')(x)\n",
        "        x = layers.BatchNormalization()(x)\n",
        "        x = layers.Activation('relu')(x)\n",
        "\n",
        "        return x\n",
        "\n",
        "    def encoder_block(input, num_filters):\n",
        "        conv_layer = convolution_block(input, num_filters)\n",
        "        # pooling = layers.MaxPooling2D((2, 2))(conv_layer)\n",
        "        pooling = BPCAPooling(pool_size=2, stride=2, expected_shape=get_layers_nmb_unet_pooling(num_filters))(conv_layer)\n",
        "        return conv_layer, pooling\n",
        "\n",
        "    def decoder_block(input, skip_features, num_filters):\n",
        "        x = layers.Conv2DTranspose(num_filters, (2, 2), strides=2, padding='same')(input)\n",
        "        # x = BPCAUnpooling(pool_size=2, stride=2, expected_shape=get_layers_nmb_unet_pooling(num_filters))(input)\n",
        "        print(x.shape)\n",
        "        x = layers.Concatenate()([x, skip_features])\n",
        "        x = convolution_block(x, num_filters)\n",
        "        return x\n",
        "\n",
        "    inputs = layers.Input(shape=img_size + (3,))\n",
        "    filters = [64, 128, 256, 512]\n",
        "    saved_layers = []\n",
        "\n",
        "    pooling = inputs\n",
        "    for filter in filters:\n",
        "        conv_layer, pooling = encoder_block(pooling, filter)\n",
        "        saved_layers.append(conv_layer)\n",
        "\n",
        "    conv_block = convolution_block(pooling, 1024)\n",
        "\n",
        "    deconv_layer = conv_block\n",
        "    for filter in reversed(filters):\n",
        "        conv_layer = saved_layers.pop()\n",
        "        deconv_layer = decoder_block(deconv_layer, conv_layer, filter)\n",
        "\n",
        "    outputs = layers.Conv2D(num_classes, 3, padding='same',\n",
        "                            activation='softmax')(deconv_layer)\n",
        "\n",
        "    model = keras.Model(inputs, outputs, name='UNet')\n",
        "    return model\n"
      ]
    },
    {
      "cell_type": "markdown",
      "metadata": {},
      "source": [
        "## Metrics"
      ]
    },
    {
      "cell_type": "code",
      "execution_count": null,
      "metadata": {},
      "outputs": [],
      "source": [
        "def mean_iou(y_true, y_pred):\n",
        "    intersection = tf.reduce_sum(y_true * y_pred)\n",
        "    union = tf.reduce_sum(y_true) + tf.reduce_sum(y_pred) - intersection\n",
        "    print(intersection, union)\n",
        "    return (intersection + 1e-7) / (union + 1e-7)"
      ]
    },
    {
      "cell_type": "code",
      "execution_count": null,
      "metadata": {},
      "outputs": [],
      "source": [
        "def dice_coefficient(y_true, y_pred, smooth=1):\n",
        "    intersection = tf.reduce_sum(y_true * y_pred)\n",
        "    union = tf.reduce_sum(y_true) + tf.reduce_sum(y_pred)\n",
        "    numerator = (2 * intersection) + smooth\n",
        "    denominator = union + smooth\n",
        "    return numerator / denominator"
      ]
    },
    {
      "cell_type": "code",
      "execution_count": null,
      "metadata": {},
      "outputs": [],
      "source": [
        "def pixel_accuracy(y_true, y_pred):\n",
        "    y_true = tf.cast(y_true, tf.dtypes.float64)\n",
        "    y_pred = tf.cast(y_pred, tf.dtypes.float64)\n",
        "    return tf.reduce_mean(tf.cast(\n",
        "        tf.equal(y_true, y_pred),\n",
        "        tf.float32\n",
        "    ))\n"
      ]
    },
    {
      "cell_type": "markdown",
      "metadata": {},
      "source": [
        "## Model Selection"
      ]
    },
    {
      "cell_type": "code",
      "execution_count": null,
      "metadata": {
        "id": "1Pf_n7UBWQ7O"
      },
      "outputs": [],
      "source": [
        "model = get_unetlike_model(img_size=(HEIGHT, WIDTH), num_classes=NUM_CLASSES)\n",
        "# model = get_unet_model(img_size=(HEIGHT, WIDTH), num_classes=NUM_CLASSES)\n",
        "# model = load_model(\"/Volumes/SSD/Mestrado/Dissertacao/resources/max_unet_500_miou/max_unet_miou.h5\", custom_objects={'mean_iou': mean_iou, 'dice_coefficient': dice_coefficient})\n",
        "# model_history = pd.read_csv('/home/hinton/brito/models/max_unetlike.csv')\n",
        "# model_history.head()\n"
      ]
    },
    {
      "cell_type": "code",
      "execution_count": null,
      "metadata": {
        "colab": {
          "base_uri": "https://localhost:8080/"
        },
        "id": "Q9-DNGqNWQ7O",
        "outputId": "6803d1b0-8545-4848-de34-37de583552cb"
      },
      "outputs": [],
      "source": [
        "model.summary()\n"
      ]
    },
    {
      "cell_type": "code",
      "execution_count": null,
      "metadata": {
        "colab": {
          "base_uri": "https://localhost:8080/"
        },
        "id": "dZm2HfrjWQ7P",
        "outputId": "32a8bec6-3714-4d93-a171-219cb8d5700c"
      },
      "outputs": [],
      "source": [
        "for i, layer in enumerate(model.layers):\n",
        "    print(i, layer.name, layer.trainable)\n"
      ]
    },
    {
      "cell_type": "code",
      "execution_count": null,
      "metadata": {
        "id": "mhFQn_z1WQ7P"
      },
      "outputs": [],
      "source": [
        "# plot_model(\n",
        "#     model,\n",
        "#     to_file=f'{RESOURCES_DIR}model.png',\n",
        "#     show_shapes=True,\n",
        "#     show_layer_names=True,\n",
        "#     rankdir='TB'\n",
        "# )\n"
      ]
    },
    {
      "cell_type": "markdown",
      "metadata": {
        "id": "kzZ2uEZXWQ7P"
      },
      "source": [
        "## Training & Testing"
      ]
    },
    {
      "cell_type": "code",
      "execution_count": null,
      "metadata": {
        "id": "cv3JmRuFWQ7P"
      },
      "outputs": [],
      "source": [
        "optimizer = Adam(learning_rate=LEARNING_RATE)\n",
        "# optimizer = SGD(learning_rate=LEARNING_RATE)\n",
        "\n",
        "model.compile(\n",
        "    optimizer=optimizer,\n",
        "    loss=tf.keras.losses.SparseCategoricalCrossentropy(),\n",
        "    metrics=[\"accuracy\", dice_coefficient, mean_iou]\n",
        ")\n"
      ]
    },
    {
      "cell_type": "markdown",
      "metadata": {},
      "source": [
        "Callbacks"
      ]
    },
    {
      "cell_type": "code",
      "execution_count": null,
      "metadata": {},
      "outputs": [],
      "source": [
        "def to_rgb(img: np.array):\n",
        "    img = np.asarray(img, dtype=np.float32)\n",
        "\n",
        "    channels = img.shape[-1]\n",
        "    if channels == 1:\n",
        "        img = np.expand_dims(img, axis=-1)\n",
        "        img = np.tile(img, (1, 1, 3))\n",
        "\n",
        "    elif channels == 2:\n",
        "        img = np.concatenate((img, img[..., :1]), axis=-1)\n",
        "\n",
        "    elif channels > 3:\n",
        "        img = img[..., :3]\n",
        "\n",
        "    img = np.clip(img, 0, 1)\n",
        "\n",
        "    return img\n",
        "\n",
        "\n",
        "def crop_image_and_label_to_shape(shape: Tuple[int, int, int]) -> callable:\n",
        "    def crop(image: np.ndarray, label: np.ndarray) -> Tuple[np.ndarray, np.ndarray]:\n",
        "        cropped_image = crop_to_shape(image, shape)\n",
        "        cropped_label = crop_to_shape(label, shape)\n",
        "        return cropped_image, cropped_label\n",
        "\n",
        "    return crop\n",
        "\n",
        "\n",
        "def crop_to_shape(data: np.ndarray, shape: Tuple[int, int, int]) -> np.ndarray:\n",
        "    assert len(\n",
        "        data.shape) == 3, \"Data must have 3 dimensions (height, width, channels).\"\n",
        "    assert data.shape[0] >= shape[0] and data.shape[1] >= shape[1], \"Data must be larger than the desired shape.\"\n",
        "\n",
        "    diff_nx = (data.shape[0] - shape[0])\n",
        "    diff_ny = (data.shape[1] - shape[1])\n",
        "\n",
        "    if diff_nx == 0 and diff_ny == 0:\n",
        "        return data\n",
        "\n",
        "    offset_nx_left = diff_nx // 2\n",
        "    offset_nx_right = diff_nx - offset_nx_left\n",
        "    offset_ny_left = diff_ny // 2\n",
        "    offset_ny_right = diff_ny - offset_ny_left\n",
        "\n",
        "    cropped = data[offset_nx_left:(-offset_nx_right),\n",
        "                   offset_ny_left:(-offset_ny_right)]\n",
        "\n",
        "    assert cropped.shape[0] == shape[0], \"Cropped data has incorrect height.\"\n",
        "    assert cropped.shape[1] == shape[1], \"Cropped data has incorrect width.\"\n",
        "    assert cropped.shape[2] == shape[2], \"Cropped data has incorrect number of channels.\"\n",
        "\n",
        "    return cropped\n",
        "\n",
        "\n",
        "class TensorBoardImageSummary(Callback):\n",
        "    def __init__(self, name, logdir: str, dataset: tf.data.Dataset, max_outputs: int = None):\n",
        "        super().__init__()\n",
        "        self.name = name\n",
        "        self.logdir = f\"{Path(logdir)}/summaries\"\n",
        "        self.max_outputs = max_outputs or dataset.cardinality().numpy()\n",
        "        self.dataset = dataset.take(self.max_outputs)\n",
        "        self.file_writer = tf.summary.create_file_writer(self.logdir)\n",
        "\n",
        "    def on_epoch_end(self, epoch, logs=None):\n",
        "        predictions = self.model.predict(self.dataset.batch(1))\n",
        "        self._log_histograms(epoch, predictions)\n",
        "        self._log_image_summaries(epoch, predictions)\n",
        "        self.file_writer.flush()\n",
        "\n",
        "    def _log_image_summaries(self, epoch, predictions):\n",
        "        images, labels = self._get_cropped_images_labels(predictions.shape[1:])\n",
        "        output = self._combine_to_image(images, labels, predictions)\n",
        "        # change output to have only 3 channels. We need to change here to see different outputs\n",
        "        # chanels. The output is a 9D array, where the first 3 channels are the input image, the\n",
        "        # next 3 channels are the ground truth and the last 3 channels are the prediction.\n",
        "        output = output[..., 6:9]\n",
        "\n",
        "        with self.file_writer.as_default():\n",
        "            tf.summary.image(\n",
        "                self.name,\n",
        "                output,\n",
        "                step=epoch,\n",
        "                max_outputs=self.max_outputs\n",
        "            )\n",
        "\n",
        "    def _get_cropped_images_labels(self, shape):\n",
        "        cropped_data = self.dataset.map(crop_image_and_label_to_shape(shape))\n",
        "        cropped_images, cropped_labels = list(\n",
        "            cropped_data.take(self.max_outputs).batch(self.max_outputs)\n",
        "        )[0]\n",
        "        return cropped_images.numpy(), cropped_labels.numpy()\n",
        "\n",
        "    def _combine_to_image(self, images, labels, predictions):\n",
        "        mask = predictions[..., :1] if predictions.shape[-1] == 2 else np.argmax(\n",
        "            predictions, axis=-1\n",
        "        )[..., np.newaxis]\n",
        "\n",
        "        # Check the shape of the arrays after calling to_rgb\n",
        "        images_rgb = to_rgb(images)\n",
        "        labels_rgb = to_rgb(labels)\n",
        "        mask_rgb = to_rgb(mask)\n",
        "\n",
        "        labels_rgb = labels_rgb.squeeze(axis=3)\n",
        "        mask_rgb = mask_rgb.squeeze(axis=3)\n",
        "\n",
        "        return np.concatenate((images_rgb, labels_rgb, mask_rgb), axis=3)\n",
        "\n",
        "    def _log_histograms(self, epoch, predictions):\n",
        "        with self.file_writer.as_default():\n",
        "            tf.summary.histogram(\n",
        "                f\"{self.name}_prediction_histograms\",\n",
        "                predictions,\n",
        "                step=epoch,\n",
        "                buckets=30,\n",
        "                description=None\n",
        "            )"
      ]
    },
    {
      "cell_type": "code",
      "execution_count": null,
      "metadata": {},
      "outputs": [],
      "source": [
        "model_checkpointer = ModelCheckpoint(\n",
        "    f'{RESOURCES_DIR}{MODEL_NAME}.h5',\n",
        "    monitor='val_mean_iou',\n",
        "    verbose=1,\n",
        "    save_best_only=True,\n",
        "    save_weights_only=False,\n",
        "    mode='max'\n",
        ")\n",
        "store_history = CSVLogger(f'{RESOURCES_DIR}{MODEL_NAME}.csv', append=True)\n",
        "tensorboard_callback = TensorBoard(\n",
        "    log_dir=LOGS_DIR,\n",
        "    histogram_freq=1,\n",
        "    write_graph=True,\n",
        "    write_images=True,\n",
        "    update_freq='epoch'\n",
        ")\n",
        "early_stopping = EarlyStopping(\n",
        "    monitor='val_mean_iou',\n",
        "    min_delta=0,\n",
        "    mode='auto',\n",
        "    verbose=1,\n",
        "    patience=100\n",
        ")\n",
        "learning_rate_reducer = ReduceLROnPlateau(\n",
        "    monitor='val_mean_iou',\n",
        "    mode='auto',\n",
        "    verbose=1,\n",
        "    min_lr=1e-5,\n",
        "    patience=25\n",
        ")\n",
        "# image_summary = TensorBoardImageSummary(\n",
        "#     name='image_summary',\n",
        "#     logdir=LOGS_DIR,\n",
        "#     dataset=test_dataset,\n",
        "#     max_outputs=3\n",
        "# )"
      ]
    },
    {
      "cell_type": "markdown",
      "metadata": {},
      "source": [
        "TensorBoard"
      ]
    },
    {
      "cell_type": "code",
      "execution_count": null,
      "metadata": {},
      "outputs": [],
      "source": [
        "%tensorboard --logdir = {LOGS_DIR}  # typo:ignore\n",
        "# kill $(lsof -i:6006)\n"
      ]
    },
    {
      "cell_type": "markdown",
      "metadata": {},
      "source": [
        "Training"
      ]
    },
    {
      "cell_type": "code",
      "execution_count": null,
      "metadata": {
        "colab": {
          "base_uri": "https://localhost:8080/"
        },
        "id": "E56REJ1AWQ7P",
        "outputId": "060ca98a-5032-4378-bd16-623c723351e9"
      },
      "outputs": [],
      "source": [
        "start_time = time.perf_counter()\n",
        "with tf.device('/gpu:0'):\n",
        "    model_history = model.fit(\n",
        "        train_batches,\n",
        "        epochs=NUM_EPOCHS,\n",
        "        steps_per_epoch=STEPS_PER_EPOCH,\n",
        "        validation_steps=VALIDATION_STEPS,\n",
        "        validation_data=validation_batches,\n",
        "        verbose=1,\n",
        "\n",
        "        callbacks=[\n",
        "            model_checkpointer,\n",
        "            store_history,\n",
        "            tensorboard_callback,\n",
        "            learning_rate_reducer,\n",
        "            early_stopping,\n",
        "            # image_summary\n",
        "        ]\n",
        "    )\n",
        "end_time = time.perf_counter()\n"
      ]
    },
    {
      "cell_type": "code",
      "execution_count": null,
      "metadata": {
        "colab": {
          "base_uri": "https://localhost:8080/"
        },
        "id": "GyJ2XljnWQ7R",
        "outputId": "56e8c566-c9d9-445a-ac86-6b979f22dc18"
      },
      "outputs": [],
      "source": [
        "total_time = ((end_time - start_time) / 60)\n",
        "print(f'Time to train: {str(\"{0:.2f}\".format(total_time))}')\n"
      ]
    },
    {
      "cell_type": "code",
      "execution_count": null,
      "metadata": {
        "id": "H7Dc4TE2WQ7R"
      },
      "outputs": [],
      "source": [
        "model.save(f'{RESOURCES_DIR}{MODEL_NAME}_last_epoch.h5')\n",
        "model_json = model.to_json()\n",
        "with open(f'{RESOURCES_DIR}{MODEL_NAME}.json', \"w\") as json_file:\n",
        "    json_file.write(model_json)\n"
      ]
    },
    {
      "cell_type": "markdown",
      "metadata": {},
      "source": [
        "Testing"
      ]
    },
    {
      "cell_type": "code",
      "execution_count": null,
      "metadata": {
        "colab": {
          "base_uri": "https://localhost:8080/"
        },
        "id": "OelGCFDrWQ7R",
        "outputId": "8bac8efb-8400-42c2-9679-20b8a2d8c140"
      },
      "outputs": [],
      "source": [
        "loss, accuracy, m_iou, dice = model.evaluate(test_batches, verbose=1)\n",
        "print(\"Loss:\", loss)\n",
        "print(\"Accuracy: %.2f%%\" % (accuracy * 100))\n",
        "print(\"Mean IoU: %.2f%%\" % (m_iou * 100))\n",
        "print(\"Dice: %.2f%%\" % (dice * 100))\n"
      ]
    },
    {
      "cell_type": "code",
      "execution_count": null,
      "metadata": {
        "colab": {
          "base_uri": "https://localhost:8080/",
          "height": 887
        },
        "id": "ArdS4_e1WQ7S",
        "outputId": "e490f9ff-62b6-424b-f73d-9ff1f7a8fe9e"
      },
      "outputs": [],
      "source": [
        "if isinstance(model_history, pd.DataFrame):\n",
        "    if 'loss' in model_history.columns:\n",
        "        plt.plot(model_history['loss'])\n",
        "        plt.plot(model_history['val_loss'])\n",
        "        plt.legend(['train', 'test'])\n",
        "        plt.title('loss')\n",
        "        plt.legend([\"Loss\", \"Validation Loss\"])\n",
        "        plt.savefig(f\"{RESOURCES_DIR}loss.png\", dpi=300, format=\"png\")\n",
        "\n",
        "    if 'accuracy' in model_history.columns:\n",
        "        plt.figure()\n",
        "        plt.plot(model_history[\"accuracy\"])\n",
        "        plt.plot(model_history['val_accuracy'])\n",
        "        plt.legend(['train', 'test'])\n",
        "        plt.title('accuracy')\n",
        "        plt.legend([\"Accuracy\", \"Validation Accuracy\"])\n",
        "        plt.savefig(f\"{RESOURCES_DIR}accuracy.png\", dpi=300, format=\"png\")\n",
        "\n",
        "    if 'mean_iou' in model_history.columns:\n",
        "        plt.figure()\n",
        "        plt.plot(model_history[\"mean_iou\"])\n",
        "        plt.plot(model_history['val_mean_iou'])\n",
        "        plt.legend(['train', 'test'])\n",
        "        plt.title('mean_iou')\n",
        "        plt.legend([\"MeanIoU\", \"Validation MeanIoU\"])\n",
        "        plt.savefig(f\"{RESOURCES_DIR}mean_iou.png\", dpi=300, format=\"png\")\n",
        "\n",
        "    if 'dice_coefficient' in model_history.columns:\n",
        "        plt.figure()\n",
        "        plt.plot(model_history[\"dice_coefficient\"])\n",
        "        plt.plot(model_history['val_dice_coefficient'])\n",
        "        plt.legend(['train', 'test'])\n",
        "        plt.title('dice_coefficient')\n",
        "        plt.legend([\"DiceCoefficient\", \"Validation DiceCoefficient\"])\n",
        "        plt.savefig(f\"{RESOURCES_DIR}dice_coefficient.png\", dpi=300, format=\"png\")\n",
        "\n",
        "else:\n",
        "    if 'loss' in model_history.history:\n",
        "        plt.plot(model_history.history['loss'])\n",
        "        plt.plot(model_history.history['val_loss'])\n",
        "        plt.legend(['train', 'test'])\n",
        "        plt.title('loss')\n",
        "        plt.legend([\"Loss\", \"Validation Loss\"])\n",
        "        plt.savefig(f\"{RESOURCES_DIR}loss.png\", dpi=300, format=\"png\")\n",
        "\n",
        "    if 'accuracy' in model_history.history:\n",
        "        plt.figure()\n",
        "        plt.plot(model_history.history[\"accuracy\"])\n",
        "        plt.plot(model_history.history['val_accuracy'])\n",
        "        plt.legend(['train', 'test'])\n",
        "        plt.title('accuracy')\n",
        "        plt.legend([\"Accuracy\", \"Validation Accuracy\"])\n",
        "        plt.savefig(f\"{RESOURCES_DIR}accuracy.png\", dpi=300, format=\"png\")\n",
        "\n",
        "    if 'mean_iou' in model_history.history:\n",
        "        plt.figure()\n",
        "        plt.plot(model_history.history[\"mean_iou\"])\n",
        "        plt.plot(model_history.history['val_mean_iou'])\n",
        "        plt.legend(['train', 'test'])\n",
        "        plt.title('mean_iou')\n",
        "        plt.legend([\"MeanIoU\", \"Validation MeanIoU\"])\n",
        "        plt.savefig(f\"{RESOURCES_DIR}mean_iou.png\", dpi=300, format=\"png\")\n",
        "\n",
        "    if 'dice_coefficient' in model_history.history:\n",
        "        plt.figure()\n",
        "        plt.plot(model_history.history[\"dice_coefficient\"])\n",
        "        plt.plot(model_history.history['val_dice_coefficient'])\n",
        "        plt.legend(['train', 'test'])\n",
        "        plt.title('dice_coefficient')\n",
        "        plt.legend([\"DiceCoefficient\", \"Validation DiceCoefficient\"])\n",
        "        plt.savefig(f\"{RESOURCES_DIR}dice_coefficient.png\", dpi=300, format=\"png\")\n"
      ]
    },
    {
      "cell_type": "code",
      "execution_count": null,
      "metadata": {},
      "outputs": [],
      "source": [
        "# count how many pixels of each class are predicted\n",
        "def count_pixels(image, num_classes):\n",
        "    counts = []\n",
        "    for i in range(num_classes):\n",
        "        counts.append(np.count_nonzero(image == i))\n",
        "    return counts\n",
        "\n",
        "\n",
        "image_batch, mask_batch = next(iter(test_batches))\n",
        "predicted_batch = model.predict(image_batch)\n",
        "\n",
        "# count how many pixels of each class are predicted\n",
        "counts = []\n",
        "for i in range(NUM_CLASSES):\n",
        "    counts.append(np.count_nonzero(predicted_batch.argmax(axis=-1) == i))"
      ]
    },
    {
      "cell_type": "markdown",
      "metadata": {
        "id": "hu_BSr2tWQ7S"
      },
      "source": [
        "## Prediction"
      ]
    },
    {
      "cell_type": "markdown",
      "metadata": {},
      "source": [
        "Image, Ground Truth and Feature Maps"
      ]
    },
    {
      "cell_type": "code",
      "execution_count": null,
      "metadata": {},
      "outputs": [],
      "source": [
        "img_indexes = [4, 10, 18]"
      ]
    },
    {
      "cell_type": "code",
      "execution_count": null,
      "metadata": {
        "id": "6HW_qEluWQ7S"
      },
      "outputs": [],
      "source": [
        "def create_mask(pred_mask):\n",
        "    pred_mask = tf.argmax(pred_mask, axis=-1)\n",
        "    pred_mask = pred_mask[..., tf.newaxis]\n",
        "    return pred_mask[0]\n"
      ]
    },
    {
      "cell_type": "code",
      "execution_count": null,
      "metadata": {
        "id": "39p9G2EfWQ7T"
      },
      "outputs": [],
      "source": [
        "def show_predictions(dataset=None, num=1):\n",
        "    if dataset:\n",
        "        for image, mask in dataset.take(num):\n",
        "            pred_mask = model.predict(image)\n",
        "            display([image[0], mask[0], create_mask(pred_mask)],\n",
        "                    name=f'{RESOURCES_DIR}prediction_{random.randint(0, 1000)}.png')\n",
        "\n",
        "    else:\n",
        "        display([\n",
        "            sample_image,\n",
        "            sample_mask,\n",
        "            create_mask(model.predict(sample_image[tf.newaxis, ...]))\n",
        "        ],\n",
        "            name=f'{RESOURCES_DIR}prediction_{random.randint(0, 1000)}.png'\n",
        "        )"
      ]
    },
    {
      "cell_type": "code",
      "execution_count": null,
      "metadata": {
        "colab": {
          "base_uri": "https://localhost:8080/",
          "height": 1000
        },
        "id": "BawSpRhjWQ7T",
        "outputId": "1f676d3d-2353-44ca-e095-b02e263200ce"
      },
      "outputs": [],
      "source": [
        "show_predictions(test_batches.skip(5), 3)\n"
      ]
    },
    {
      "cell_type": "markdown",
      "metadata": {},
      "source": [
        "Grad-Cam"
      ]
    },
    {
      "cell_type": "code",
      "execution_count": null,
      "metadata": {},
      "outputs": [],
      "source": [
        "for im, mk in test_batches.take(1):\n",
        "    image = im[0]\n",
        "    mask = mk[0]\n",
        "    break"
      ]
    },
    {
      "cell_type": "code",
      "execution_count": null,
      "metadata": {},
      "outputs": [],
      "source": [
        "def get_img_array(img_path, size):\n",
        "    # `img` is a PIL image of size 299x299\n",
        "    img = tf.keras.utils.load_img(img_path, target_size=size)\n",
        "    # `array` is a float32 Numpy array of shape (299, 299, 3)\n",
        "    array = tf.keras.utils.img_to_array(img)\n",
        "    # We add a dimension to transform our array into a \"batch\"\n",
        "    # of size (1, 299, 299, 3)\n",
        "    array = np.expand_dims(array, axis=0)\n",
        "    return array\n",
        "\n",
        "\n",
        "def make_gradcam_heatmap(img_array, model, last_conv_layer_name, pred_index=None):\n",
        "    # First, we create a model that maps the input image to the activations\n",
        "    # of the last conv layer as well as the output predictions\n",
        "    grad_model = tf.keras.models.Model(\n",
        "        model.inputs,\n",
        "        [model.get_layer(last_conv_layer_name).output, model.output]\n",
        "    )\n",
        "\n",
        "    # Then, we compute the gradient of the top predicted class for our input image\n",
        "    # with respect to the activations of the last conv layer\n",
        "    with tf.GradientTape() as tape:\n",
        "        last_conv_layer_output, preds = grad_model(img_array)\n",
        "        if pred_index is None:\n",
        "            pred_index = tf.argmax(preds[0])\n",
        "        class_channel = preds[:, pred_index]\n",
        "\n",
        "    # This is the gradient of the output neuron (top predicted or chosen)\n",
        "    # with regard to the output feature map of the last conv layer\n",
        "    grads = tape.gradient(class_channel, last_conv_layer_output)\n",
        "\n",
        "    # This is a vector where each entry is the mean intensity of the gradient\n",
        "    # over a specific feature map channel\n",
        "    pooled_grads = tf.reduce_mean(grads, axis=(0, 1, 2))\n",
        "\n",
        "    # We multiply each channel in the feature map array\n",
        "    # by \"how important this channel is\" with regard to the top predicted class\n",
        "    # then sum all the channels to obtain the heatmap class activation\n",
        "    last_conv_layer_output = last_conv_layer_output[0]\n",
        "    heatmap = last_conv_layer_output @ pooled_grads[..., tf.newaxis]\n",
        "    heatmap = tf.squeeze(heatmap)\n",
        "\n",
        "    # For visualization purpose, we will also normalize the heatmap between 0 & 1\n",
        "    heatmap = tf.maximum(heatmap, 0) / tf.math.reduce_max(heatmap)\n",
        "    return heatmap.numpy()\n",
        "\n",
        "def save_and_display_gradcam(img_path, heatmap, cam_path=\"cam.jpg\", alpha=0.4):\n",
        "    # Load the original image\n",
        "    img = tf.keras.utils.load_img(img_path)\n",
        "    img = tf.keras.utils.img_to_array(img)\n",
        "\n",
        "    # Rescale heatmap to a range 0-255\n",
        "    heatmap = np.uint8(255 * heatmap)\n",
        "\n",
        "    # Use jet colormap to colorize heatmap\n",
        "    jet = cm.get_cmap(\"jet\")\n",
        "\n",
        "    # Use RGB values of the colormap\n",
        "    jet_colors = jet(np.arange(256))[:, :3]\n",
        "    jet_heatmap = jet_colors[heatmap]\n",
        "\n",
        "    # Create an image with RGB colorized heatmap\n",
        "    jet_heatmap = tf.keras.utils.array_to_img(jet_heatmap)\n",
        "    jet_heatmap = jet_heatmap.resize((img.shape[1], img.shape[0]))\n",
        "    jet_heatmap = tf.keras.utils.img_to_array(jet_heatmap)\n",
        "\n",
        "    # Superimpose the heatmap on original image\n",
        "    superimposed_img = jet_heatmap * alpha + img\n",
        "    superimposed_img = tf.keras.utils.array_to_img(superimposed_img)\n",
        "\n",
        "    # Save the superimposed image\n",
        "    superimposed_img.save(cam_path)\n",
        "\n",
        "    # Display Grad CAM\n",
        "    display_ipython(\n",
        "        Image(cam_path)\n",
        "    )"
      ]
    },
    {
      "cell_type": "code",
      "execution_count": null,
      "metadata": {},
      "outputs": [],
      "source": [
        "# save img in a temp file\n",
        "img_path = 'temp.jpg'\n",
        "tf.keras.utils.save_img(img_path, image.numpy())\n",
        "\n",
        "# Apply Grad CAM algorithm to the last convolution layer\n",
        "img_size = (HEIGHT, WIDTH)\n",
        "img_array = get_img_array(img_path, size=img_size)\n",
        "\n",
        "preds = model.predict(img_array)\n",
        "try:\n",
        "    heatmap = make_gradcam_heatmap(\n",
        "        img_array,\n",
        "        model,\n",
        "        'conv2d_18',\n",
        "        pred_index=np.argmax(preds)\n",
        "    )\n",
        "except:\n",
        "    heatmap = make_gradcam_heatmap(\n",
        "        img_array,\n",
        "        model,\n",
        "        'conv2d_8',\n",
        "        pred_index=np.argmax(preds)\n",
        "    )\n",
        "plt.matshow(heatmap)\n",
        "plt.show()"
      ]
    },
    {
      "cell_type": "code",
      "execution_count": null,
      "metadata": {},
      "outputs": [],
      "source": [
        "save_and_display_gradcam(img_path, heatmap)"
      ]
    },
    {
      "cell_type": "code",
      "execution_count": null,
      "metadata": {},
      "outputs": [],
      "source": [
        "params = {\n",
        "    'optimizer': optimizer,\n",
        "    'val_accuracy': accuracy,\n",
        "    'val_miou': m_iou,\n",
        "    'val_dice': dice,\n",
        "    'val_loss': loss,\n",
        "    'epochs': NUM_EPOCHS,\n",
        "    'steps_by_epochs': STEPS_PER_EPOCH,\n",
        "    'validation_steps': VALIDATION_STEPS,\n",
        "    'batch_size': BATCH_SIZE,\n",
        "    'learning_rate': LEARNING_RATE,\n",
        "    'time': total_time,\n",
        "}\n",
        "print(params)\n"
      ]
    }
  ],
  "metadata": {
    "accelerator": "GPU",
    "colab": {
      "gpuType": "T4",
      "include_colab_link": true,
      "provenance": []
    },
    "kernelspec": {
      "display_name": "Python 3",
      "name": "python3"
    },
    "language_info": {
      "codemirror_mode": {
        "name": "ipython",
        "version": 3
      },
      "file_extension": ".py",
      "mimetype": "text/x-python",
      "name": "python",
      "nbconvert_exporter": "python",
      "pygments_lexer": "ipython3",
      "version": "3.8.16"
    },
    "orig_nbformat": 4
  },
  "nbformat": 4,
  "nbformat_minor": 0
}
